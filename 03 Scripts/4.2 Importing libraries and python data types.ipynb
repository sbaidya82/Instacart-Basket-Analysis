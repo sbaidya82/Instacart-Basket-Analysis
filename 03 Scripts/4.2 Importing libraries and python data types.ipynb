{
 "cells": [
  {
   "cell_type": "markdown",
   "id": "d31906be-0ddf-4079-9681-a6d5eb30930b",
   "metadata": {},
   "source": [
    "# 01. Importing libraries"
   ]
  },
  {
   "cell_type": "code",
   "execution_count": 1,
   "id": "e37e5517-7b34-41de-a259-5febf5773509",
   "metadata": {},
   "outputs": [],
   "source": [
    "#Import libraries\n",
    "import pandas as pd\n",
    "import numpy as np\n",
    "import os"
   ]
  },
  {
   "cell_type": "markdown",
   "id": "df3c632a-24e5-44d8-b1b0-407f101ea72e",
   "metadata": {},
   "source": [
    "# 02. Data types"
   ]
  },
  {
   "cell_type": "code",
   "execution_count": 3,
   "id": "131d41e9-e8b6-4d0b-8b4d-5b579cedd008",
   "metadata": {},
   "outputs": [
    {
     "name": "stdout",
     "output_type": "stream",
     "text": [
      "addition of a and b is = 100\n"
     ]
    }
   ],
   "source": [
    "# 1. code to reach 100 by addition\n",
    "a=40\n",
    "b=60\n",
    "c=a+b\n",
    "print(\"addition of a and b is =\",c)"
   ]
  },
  {
   "cell_type": "code",
   "execution_count": 5,
   "id": "99f9fe71-29d9-4583-8f18-cc993f52a8a2",
   "metadata": {},
   "outputs": [
    {
     "name": "stdout",
     "output_type": "stream",
     "text": [
      "addition of a and b is = 100\n"
     ]
    }
   ],
   "source": [
    "# 2. code to reach 100 by addition\n",
    "a=60\n",
    "b=40\n",
    "c=a+b\n",
    "print(\"addition of a and b is =\",c)"
   ]
  },
  {
   "cell_type": "code",
   "execution_count": 7,
   "id": "e4051a9c-6f1f-4e5f-b009-dbc871d7bbe5",
   "metadata": {},
   "outputs": [
    {
     "name": "stdout",
     "output_type": "stream",
     "text": [
      "subtraction of a and b is = 100\n"
     ]
    }
   ],
   "source": [
    "# 3. code to reach 100 by subtraction \n",
    "a=150\n",
    "b=50\n",
    "c=a-b\n",
    "print(\"subtraction of a and b is =\", c)"
   ]
  },
  {
   "cell_type": "code",
   "execution_count": 9,
   "id": "65e63c64-0ca6-48a4-a343-7e6be4bf0d9a",
   "metadata": {},
   "outputs": [
    {
     "name": "stdout",
     "output_type": "stream",
     "text": [
      "divition of a and b is = 1.976470588235294\n"
     ]
    }
   ],
   "source": [
    "# code 2 floating point variables and devide them by each other\n",
    "a=75.60\n",
    "b=38.25\n",
    "c=a/b\n",
    "print(\"divition of a and b is =\",c)"
   ]
  },
  {
   "cell_type": "code",
   "execution_count": 17,
   "id": "990dbcfc-7a96-4929-9575-b9c997533c11",
   "metadata": {},
   "outputs": [
    {
     "data": {
      "text/plain": [
       "'football'"
      ]
     },
     "execution_count": 17,
     "metadata": {},
     "output_type": "execute_result"
    }
   ],
   "source": [
    "# construct a short word made of separate strings\n",
    "a= 'foot'\n",
    "b= 'ball'\n",
    "a+b\n",
    "\n"
   ]
  },
  {
   "cell_type": "code",
   "execution_count": 19,
   "id": "9952bade-541c-4299-8e31-be030048777e",
   "metadata": {},
   "outputs": [
    {
     "data": {
      "text/plain": [
       "'I love mango'"
      ]
     },
     "execution_count": 19,
     "metadata": {},
     "output_type": "execute_result"
    }
   ],
   "source": [
    "# 1.construct 2 sentences made of separate strings\n",
    "a='I '\n",
    "b='love '\n",
    "c='mango'\n",
    "a+b+c"
   ]
  },
  {
   "cell_type": "code",
   "execution_count": 21,
   "id": "fc997044-a9c7-4321-a5f0-be48cd67890a",
   "metadata": {},
   "outputs": [
    {
     "data": {
      "text/plain": [
       "'I am staying in hamburg'"
      ]
     },
     "execution_count": 21,
     "metadata": {},
     "output_type": "execute_result"
    }
   ],
   "source": [
    "# 2. construct 2 sentences made of separate strings\n",
    "a= 'I '\n",
    "b= 'am '\n",
    "c='staying '\n",
    "d= 'in '\n",
    "e= 'hamburg'\n",
    "a+b+c+d+e"
   ]
  },
  {
   "cell_type": "code",
   "execution_count": 25,
   "id": "8eea8fbf-8772-4ceb-b315-c396f0aa34a3",
   "metadata": {},
   "outputs": [
    {
     "data": {
      "text/plain": [
       "'pythonpythonpythonpythonpythonpythonpythonpythonpythonpythonpythonpythonpythonpythonpythonpythonpythonpythonpythonpythonpythonpythonpythonpythonpythonpythonpythonpythonpythonpythonpythonpythonpythonpythonpythonpythonpythonpythonpythonpythonpythonpythonpythonpythonpythonpythonpythonpythonpythonpythonpythonpythonpythonpythonpythonpythonpythonpythonpythonpythonpythonpythonpythonpythonpythonpythonpythonpythonpythonpythonpythonpythonpythonpythonpythonpythonpythonpythonpythonpythonpythonpythonpythonpythonpythonpythonpythonpythonpythonpythonpythonpythonpythonpythonpythonpythonpythonpythonpythonpython'"
      ]
     },
     "execution_count": 25,
     "metadata": {},
     "output_type": "execute_result"
    }
   ],
   "source": [
    "# bonus task ,command that makes a string appear 100 times\n",
    "a= 'python'\n",
    "a * 100"
   ]
  },
  {
   "cell_type": "code",
   "execution_count": null,
   "id": "29101587-1100-4dbc-a818-c16cf36f80aa",
   "metadata": {},
   "outputs": [],
   "source": []
  }
 ],
 "metadata": {
  "kernelspec": {
   "display_name": "Python 3 (ipykernel)",
   "language": "python",
   "name": "python3"
  },
  "language_info": {
   "codemirror_mode": {
    "name": "ipython",
    "version": 3
   },
   "file_extension": ".py",
   "mimetype": "text/x-python",
   "name": "python",
   "nbconvert_exporter": "python",
   "pygments_lexer": "ipython3",
   "version": "3.12.4"
  }
 },
 "nbformat": 4,
 "nbformat_minor": 5
}
