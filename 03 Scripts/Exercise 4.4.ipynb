{
 "cells": [
  {
   "cell_type": "markdown",
   "id": "17a2c97c-8b4a-4442-9cab-33cf78c00471",
   "metadata": {},
   "source": [
    "# 01. Importing libraries "
   ]
  },
  {
   "cell_type": "code",
   "execution_count": 103,
   "id": "13f47819-b991-40c5-960d-8fd1235b4593",
   "metadata": {},
   "outputs": [],
   "source": [
    "# import libraries\n",
    "import pandas as pd\n",
    "import numpy as np\n",
    "import os"
   ]
  },
  {
   "cell_type": "markdown",
   "id": "06280ed9-c1bc-4768-ade6-69b99268006f",
   "metadata": {},
   "source": [
    "# 02. Importing Dataframe"
   ]
  },
  {
   "cell_type": "code",
   "execution_count": 105,
   "id": "896918b6-f3dc-43be-8f11-46bf7d948ca5",
   "metadata": {},
   "outputs": [],
   "source": [
    "# create path\n",
    "path = r'C:\\Users\\baidy\\Downloads\\11-2024 Instacart Basket Analysis'"
   ]
  },
  {
   "cell_type": "code",
   "execution_count": 106,
   "id": "8f37046e-6a49-4f82-9a71-19e5f35ace8d",
   "metadata": {},
   "outputs": [
    {
     "data": {
      "text/plain": [
       "'C:\\\\Users\\\\baidy\\\\Downloads\\\\11-2024 Instacart Basket Analysis'"
      ]
     },
     "execution_count": 106,
     "metadata": {},
     "output_type": "execute_result"
    }
   ],
   "source": [
    "path"
   ]
  },
  {
   "cell_type": "code",
   "execution_count": 107,
   "id": "88da7569-a444-4578-ba2c-c5789b3084d5",
   "metadata": {},
   "outputs": [],
   "source": [
    "#Import dataframe orders\n",
    "#df_ords= pd.read_csv(r'C:\\Users\\baidy\\Downloads\\11-2024 Instacart Basket Analysis\\02 Data\\Original Data\\orders.csv', index_col=False)"
   ]
  },
  {
   "cell_type": "code",
   "execution_count": 108,
   "id": "fb6a007a-faa6-4a8e-9065-a6359e88275b",
   "metadata": {},
   "outputs": [],
   "source": [
    "df_ords = pd.read_csv(r'C:\\Users\\baidy\\Downloads\\11-2024 Instacart Basket Analysis\\02 Data\\Original Data\\orders.csv', index_col=False)"
   ]
  },
  {
   "cell_type": "code",
   "execution_count": 109,
   "id": "69af10c3-fc9d-426b-928b-6726d8c0deed",
   "metadata": {},
   "outputs": [
    {
     "name": "stdout",
     "output_type": "stream",
     "text": [
      "         order_id  user_id eval_set  order_number  order_dow  \\\n",
      "0         2539329        1    prior             1          2   \n",
      "1         2398795        1    prior             2          3   \n",
      "2          473747        1    prior             3          3   \n",
      "3         2254736        1    prior             4          4   \n",
      "4          431534        1    prior             5          4   \n",
      "...           ...      ...      ...           ...        ...   \n",
      "3421078   2266710   206209    prior            10          5   \n",
      "3421079   1854736   206209    prior            11          4   \n",
      "3421080    626363   206209    prior            12          1   \n",
      "3421081   2977660   206209    prior            13          1   \n",
      "3421082    272231   206209    train            14          6   \n",
      "\n",
      "         order_hour_of_day  days_since_prior_order  \n",
      "0                        8                     NaN  \n",
      "1                        7                    15.0  \n",
      "2                       12                    21.0  \n",
      "3                        7                    29.0  \n",
      "4                       15                    28.0  \n",
      "...                    ...                     ...  \n",
      "3421078                 18                    29.0  \n",
      "3421079                 10                    30.0  \n",
      "3421080                 12                    18.0  \n",
      "3421081                 12                     7.0  \n",
      "3421082                 14                    30.0  \n",
      "\n",
      "[3421083 rows x 7 columns]\n"
     ]
    }
   ],
   "source": [
    "print(df_ords)"
   ]
  },
  {
   "cell_type": "markdown",
   "id": "93e7801f-dfee-420e-99d3-4468b1d2000e",
   "metadata": {},
   "source": [
    "# Wrangling Data"
   ]
  },
  {
   "cell_type": "code",
   "execution_count": 111,
   "id": "46e0bb93-54c0-41de-8018-bf136c2414d2",
   "metadata": {},
   "outputs": [],
   "source": [
    "# 2.Dropping eval_set column from orders.csv\n",
    "df_ords=df_ords.drop(columns=['eval_set'])"
   ]
  },
  {
   "cell_type": "code",
   "execution_count": 112,
   "id": "9a3a5edf-5802-4fd9-9c0b-0439e6657004",
   "metadata": {},
   "outputs": [],
   "source": [
    "# changing data type for oeder and user ID in order data frame\n",
    "df_ords['order_id']=df_ords['order_id'].astype('str')\n",
    "df_ords['user_id']=df_ords['user_id'].astype('str')"
   ]
  },
  {
   "cell_type": "code",
   "execution_count": 113,
   "id": "a8156bc7-f86d-4d0f-abd9-90451e3a1713",
   "metadata": {},
   "outputs": [
    {
     "data": {
      "text/plain": [
       "order_id  user_id  order_number  order_dow  order_hour_of_day  days_since_prior_order\n",
       "1         112108   4             4          10                 9.0                       1\n",
       "3052210   154825   8             1          15                 30.0                      1\n",
       "3052212   54757    7             2          15                 23.0                      1\n",
       "3052214   79983    3             0          10                 7.0                       1\n",
       "3052215   137237   44            1          9                  6.0                       1\n",
       "                                                                                        ..\n",
       "2026237   41574    3             0          7                  4.0                       1\n",
       "2026238   20930    40            3          6                  7.0                       1\n",
       "2026239   165022   3             2          15                 26.0                      1\n",
       "202624    5642     12            5          10                 7.0                       1\n",
       "999999    94207    4             5          9                  16.0                      1\n",
       "Name: count, Length: 3214874, dtype: int64"
      ]
     },
     "execution_count": 113,
     "metadata": {},
     "output_type": "execute_result"
    }
   ],
   "source": [
    "df_ords.value_counts()"
   ]
  },
  {
   "cell_type": "code",
   "execution_count": 114,
   "id": "13ad8c97-fc52-4c27-af4f-7aec71871d90",
   "metadata": {},
   "outputs": [
    {
     "data": {
      "text/plain": [
       "order_hour_of_day\n",
       "10    288418\n",
       "11    284728\n",
       "15    283639\n",
       "14    283042\n",
       "13    277999\n",
       "12    272841\n",
       "16    272553\n",
       "9     257812\n",
       "17    228795\n",
       "18    182912\n",
       "8     178201\n",
       "19    140569\n",
       "20    104292\n",
       "7      91868\n",
       "21     78109\n",
       "22     61468\n",
       "23     40043\n",
       "6      30529\n",
       "0      22758\n",
       "1      12398\n",
       "5       9569\n",
       "2       7539\n",
       "4       5527\n",
       "3       5474\n",
       "Name: count, dtype: int64"
      ]
     },
     "execution_count": 114,
     "metadata": {},
     "output_type": "execute_result"
    }
   ],
   "source": [
    "# 4.the busiest hour for placing order\n",
    "df_ords['order_hour_of_day'].value_counts(dropna=False)"
   ]
  },
  {
   "cell_type": "markdown",
   "id": "0e829e38-66e4-4909-b078-62cdb2581866",
   "metadata": {},
   "source": [
    "# Observation:\n",
    "the busiest time of the day to place orders is 10.00 am."
   ]
  },
  {
   "cell_type": "code",
   "execution_count": 116,
   "id": "18e0d868-6cc3-40b7-b396-e0f9a0560c72",
   "metadata": {},
   "outputs": [],
   "source": [
    "# 3.changing the name of the variable \n",
    "df_ords.rename(columns = {'order_dow' : 'orders_day_of_week'}, inplace= True)"
   ]
  },
  {
   "cell_type": "code",
   "execution_count": 117,
   "id": "7d772d83-331d-4533-be4a-b9663fb98232",
   "metadata": {},
   "outputs": [
    {
     "data": {
      "text/html": [
       "<div>\n",
       "<style scoped>\n",
       "    .dataframe tbody tr th:only-of-type {\n",
       "        vertical-align: middle;\n",
       "    }\n",
       "\n",
       "    .dataframe tbody tr th {\n",
       "        vertical-align: top;\n",
       "    }\n",
       "\n",
       "    .dataframe thead th {\n",
       "        text-align: right;\n",
       "    }\n",
       "</style>\n",
       "<table border=\"1\" class=\"dataframe\">\n",
       "  <thead>\n",
       "    <tr style=\"text-align: right;\">\n",
       "      <th></th>\n",
       "      <th>order_id</th>\n",
       "      <th>user_id</th>\n",
       "      <th>order_number</th>\n",
       "      <th>orders_day_of_week</th>\n",
       "      <th>order_hour_of_day</th>\n",
       "      <th>days_since_prior_order</th>\n",
       "    </tr>\n",
       "  </thead>\n",
       "  <tbody>\n",
       "    <tr>\n",
       "      <th>0</th>\n",
       "      <td>2539329</td>\n",
       "      <td>1</td>\n",
       "      <td>1</td>\n",
       "      <td>2</td>\n",
       "      <td>8</td>\n",
       "      <td>NaN</td>\n",
       "    </tr>\n",
       "    <tr>\n",
       "      <th>1</th>\n",
       "      <td>2398795</td>\n",
       "      <td>1</td>\n",
       "      <td>2</td>\n",
       "      <td>3</td>\n",
       "      <td>7</td>\n",
       "      <td>15.0</td>\n",
       "    </tr>\n",
       "    <tr>\n",
       "      <th>2</th>\n",
       "      <td>473747</td>\n",
       "      <td>1</td>\n",
       "      <td>3</td>\n",
       "      <td>3</td>\n",
       "      <td>12</td>\n",
       "      <td>21.0</td>\n",
       "    </tr>\n",
       "    <tr>\n",
       "      <th>3</th>\n",
       "      <td>2254736</td>\n",
       "      <td>1</td>\n",
       "      <td>4</td>\n",
       "      <td>4</td>\n",
       "      <td>7</td>\n",
       "      <td>29.0</td>\n",
       "    </tr>\n",
       "    <tr>\n",
       "      <th>4</th>\n",
       "      <td>431534</td>\n",
       "      <td>1</td>\n",
       "      <td>5</td>\n",
       "      <td>4</td>\n",
       "      <td>15</td>\n",
       "      <td>28.0</td>\n",
       "    </tr>\n",
       "  </tbody>\n",
       "</table>\n",
       "</div>"
      ],
      "text/plain": [
       "  order_id user_id  order_number  orders_day_of_week  order_hour_of_day  \\\n",
       "0  2539329       1             1                   2                  8   \n",
       "1  2398795       1             2                   3                  7   \n",
       "2   473747       1             3                   3                 12   \n",
       "3  2254736       1             4                   4                  7   \n",
       "4   431534       1             5                   4                 15   \n",
       "\n",
       "   days_since_prior_order  \n",
       "0                     NaN  \n",
       "1                    15.0  \n",
       "2                    21.0  \n",
       "3                    29.0  \n",
       "4                    28.0  "
      ]
     },
     "execution_count": 117,
     "metadata": {},
     "output_type": "execute_result"
    }
   ],
   "source": [
    "df_ords.head()"
   ]
  },
  {
   "cell_type": "markdown",
   "id": "63b5ff62-132a-4d59-980e-bd8edd4bd9b8",
   "metadata": {},
   "source": [
    "# changing a variables data type"
   ]
  },
  {
   "cell_type": "code",
   "execution_count": 119,
   "id": "2f4a5883-9ec5-4869-b7ac-178c30168353",
   "metadata": {},
   "outputs": [
    {
     "data": {
      "text/html": [
       "<div>\n",
       "<style scoped>\n",
       "    .dataframe tbody tr th:only-of-type {\n",
       "        vertical-align: middle;\n",
       "    }\n",
       "\n",
       "    .dataframe tbody tr th {\n",
       "        vertical-align: top;\n",
       "    }\n",
       "\n",
       "    .dataframe thead th {\n",
       "        text-align: right;\n",
       "    }\n",
       "</style>\n",
       "<table border=\"1\" class=\"dataframe\">\n",
       "  <thead>\n",
       "    <tr style=\"text-align: right;\">\n",
       "      <th></th>\n",
       "      <th>order_number</th>\n",
       "      <th>orders_day_of_week</th>\n",
       "      <th>order_hour_of_day</th>\n",
       "      <th>days_since_prior_order</th>\n",
       "    </tr>\n",
       "  </thead>\n",
       "  <tbody>\n",
       "    <tr>\n",
       "      <th>count</th>\n",
       "      <td>3.421083e+06</td>\n",
       "      <td>3.421083e+06</td>\n",
       "      <td>3.421083e+06</td>\n",
       "      <td>3.214874e+06</td>\n",
       "    </tr>\n",
       "    <tr>\n",
       "      <th>mean</th>\n",
       "      <td>1.715486e+01</td>\n",
       "      <td>2.776219e+00</td>\n",
       "      <td>1.345202e+01</td>\n",
       "      <td>1.111484e+01</td>\n",
       "    </tr>\n",
       "    <tr>\n",
       "      <th>std</th>\n",
       "      <td>1.773316e+01</td>\n",
       "      <td>2.046829e+00</td>\n",
       "      <td>4.226088e+00</td>\n",
       "      <td>9.206737e+00</td>\n",
       "    </tr>\n",
       "    <tr>\n",
       "      <th>min</th>\n",
       "      <td>1.000000e+00</td>\n",
       "      <td>0.000000e+00</td>\n",
       "      <td>0.000000e+00</td>\n",
       "      <td>0.000000e+00</td>\n",
       "    </tr>\n",
       "    <tr>\n",
       "      <th>25%</th>\n",
       "      <td>5.000000e+00</td>\n",
       "      <td>1.000000e+00</td>\n",
       "      <td>1.000000e+01</td>\n",
       "      <td>4.000000e+00</td>\n",
       "    </tr>\n",
       "    <tr>\n",
       "      <th>50%</th>\n",
       "      <td>1.100000e+01</td>\n",
       "      <td>3.000000e+00</td>\n",
       "      <td>1.300000e+01</td>\n",
       "      <td>7.000000e+00</td>\n",
       "    </tr>\n",
       "    <tr>\n",
       "      <th>75%</th>\n",
       "      <td>2.300000e+01</td>\n",
       "      <td>5.000000e+00</td>\n",
       "      <td>1.600000e+01</td>\n",
       "      <td>1.500000e+01</td>\n",
       "    </tr>\n",
       "    <tr>\n",
       "      <th>max</th>\n",
       "      <td>1.000000e+02</td>\n",
       "      <td>6.000000e+00</td>\n",
       "      <td>2.300000e+01</td>\n",
       "      <td>3.000000e+01</td>\n",
       "    </tr>\n",
       "  </tbody>\n",
       "</table>\n",
       "</div>"
      ],
      "text/plain": [
       "       order_number  orders_day_of_week  order_hour_of_day  \\\n",
       "count  3.421083e+06        3.421083e+06       3.421083e+06   \n",
       "mean   1.715486e+01        2.776219e+00       1.345202e+01   \n",
       "std    1.773316e+01        2.046829e+00       4.226088e+00   \n",
       "min    1.000000e+00        0.000000e+00       0.000000e+00   \n",
       "25%    5.000000e+00        1.000000e+00       1.000000e+01   \n",
       "50%    1.100000e+01        3.000000e+00       1.300000e+01   \n",
       "75%    2.300000e+01        5.000000e+00       1.600000e+01   \n",
       "max    1.000000e+02        6.000000e+00       2.300000e+01   \n",
       "\n",
       "       days_since_prior_order  \n",
       "count            3.214874e+06  \n",
       "mean             1.111484e+01  \n",
       "std              9.206737e+00  \n",
       "min              0.000000e+00  \n",
       "25%              4.000000e+00  \n",
       "50%              7.000000e+00  \n",
       "75%              1.500000e+01  \n",
       "max              3.000000e+01  "
      ]
     },
     "execution_count": 119,
     "metadata": {},
     "output_type": "execute_result"
    }
   ],
   "source": [
    "df_ords.describe()"
   ]
  },
  {
   "cell_type": "code",
   "execution_count": 120,
   "id": "9793cee1-4571-492e-9834-f3b92a85b9bc",
   "metadata": {},
   "outputs": [],
   "source": [
    "df_ords['order_id']=df_ords['order_id'].astype('str')"
   ]
  },
  {
   "cell_type": "code",
   "execution_count": 121,
   "id": "c0a2918f-2b20-4547-af55-1cad93c479dc",
   "metadata": {},
   "outputs": [
    {
     "data": {
      "text/plain": [
       "dtype('O')"
      ]
     },
     "execution_count": 121,
     "metadata": {},
     "output_type": "execute_result"
    }
   ],
   "source": [
    "df_ords['order_id'].dtype "
   ]
  },
  {
   "cell_type": "markdown",
   "id": "775c26cb-b474-4ac9-aa49-73824eb862f1",
   "metadata": {},
   "source": [
    "# Import dataframe Products"
   ]
  },
  {
   "cell_type": "code",
   "execution_count": 123,
   "id": "a051acab-d347-47bb-833b-3384aa11f89c",
   "metadata": {},
   "outputs": [],
   "source": [
    "#Import Dtaframe products\n",
    "#df_prods= pd.read_csv(r'C:\\Users\\baidy\\Downloads\\11-2024 Instacart Basket Analysis\\02 Data\\Original Data\\products.csv',index_col=False)"
   ]
  },
  {
   "cell_type": "code",
   "execution_count": 124,
   "id": "e44da1cb-8a90-4180-96a9-800f63fd7e5e",
   "metadata": {},
   "outputs": [],
   "source": [
    "df_prods= pd.read_csv(r'C:\\Users\\baidy\\Downloads\\11-2024 Instacart Basket Analysis\\02 Data\\Original Data\\Products.csv', index_col=False)"
   ]
  },
  {
   "cell_type": "markdown",
   "id": "94e335b4-ff77-4b81-b93f-e018594a1147",
   "metadata": {},
   "source": [
    "# Import dataframe Department"
   ]
  },
  {
   "cell_type": "code",
   "execution_count": 126,
   "id": "2e34a802-2514-4473-b511-7b64eaa15464",
   "metadata": {},
   "outputs": [],
   "source": [
    "#Import departments.csv\n",
    "df_dep = pd.read_csv(os.path.join(path, '02 Data','Original Data','departments.csv'), index_col=False)"
   ]
  },
  {
   "cell_type": "markdown",
   "id": "588749c8-9181-46d6-9bf9-2c25f3aaeff9",
   "metadata": {},
   "source": [
    "# Transposing df_dep"
   ]
  },
  {
   "cell_type": "code",
   "execution_count": 128,
   "id": "664db0f3-a211-4878-8b92-f42342c060a8",
   "metadata": {},
   "outputs": [],
   "source": [
    "df_dep_t=df_dep.T"
   ]
  },
  {
   "cell_type": "markdown",
   "id": "a10506e6-71a9-487b-807d-e458a54303a8",
   "metadata": {},
   "source": [
    "# Change header of departments df"
   ]
  },
  {
   "cell_type": "code",
   "execution_count": 130,
   "id": "cc3e6c97-6748-4040-92c8-7cf63f334871",
   "metadata": {},
   "outputs": [],
   "source": [
    "# take 1st row of df_dep_t for the header\n",
    "new_header=df_dep_t.iloc[0]"
   ]
  },
  {
   "cell_type": "code",
   "execution_count": 131,
   "id": "2ed2ee8a-d9be-4dc4-b77d-71d2222091ad",
   "metadata": {},
   "outputs": [],
   "source": [
    "# copying df_dep_t from row 1 onword\n",
    "df_dep_t_new=df_dep_t[1:]"
   ]
  },
  {
   "cell_type": "code",
   "execution_count": 132,
   "id": "3a964d41-680a-4e1d-9fd8-36173df75b6e",
   "metadata": {},
   "outputs": [],
   "source": [
    "#set the header row as the df header\n",
    "df_dep_t_new.columns=new_header"
   ]
  },
  {
   "cell_type": "markdown",
   "id": "7c477e87-7fcb-40c5-82ab-5953ecf84b68",
   "metadata": {},
   "source": [
    "# Result of the transformation"
   ]
  },
  {
   "cell_type": "code",
   "execution_count": 134,
   "id": "b5136279-be14-41d8-8f48-99d461e82e30",
   "metadata": {},
   "outputs": [
    {
     "data": {
      "text/html": [
       "<div>\n",
       "<style scoped>\n",
       "    .dataframe tbody tr th:only-of-type {\n",
       "        vertical-align: middle;\n",
       "    }\n",
       "\n",
       "    .dataframe tbody tr th {\n",
       "        vertical-align: top;\n",
       "    }\n",
       "\n",
       "    .dataframe thead th {\n",
       "        text-align: right;\n",
       "    }\n",
       "</style>\n",
       "<table border=\"1\" class=\"dataframe\">\n",
       "  <thead>\n",
       "    <tr style=\"text-align: right;\">\n",
       "      <th>department_id</th>\n",
       "      <th>department</th>\n",
       "    </tr>\n",
       "  </thead>\n",
       "  <tbody>\n",
       "    <tr>\n",
       "      <th>1</th>\n",
       "      <td>frozen</td>\n",
       "    </tr>\n",
       "    <tr>\n",
       "      <th>2</th>\n",
       "      <td>other</td>\n",
       "    </tr>\n",
       "    <tr>\n",
       "      <th>3</th>\n",
       "      <td>bakery</td>\n",
       "    </tr>\n",
       "    <tr>\n",
       "      <th>4</th>\n",
       "      <td>produce</td>\n",
       "    </tr>\n",
       "    <tr>\n",
       "      <th>5</th>\n",
       "      <td>alcohol</td>\n",
       "    </tr>\n",
       "    <tr>\n",
       "      <th>6</th>\n",
       "      <td>international</td>\n",
       "    </tr>\n",
       "    <tr>\n",
       "      <th>7</th>\n",
       "      <td>beverages</td>\n",
       "    </tr>\n",
       "    <tr>\n",
       "      <th>8</th>\n",
       "      <td>pets</td>\n",
       "    </tr>\n",
       "    <tr>\n",
       "      <th>9</th>\n",
       "      <td>dry goods pasta</td>\n",
       "    </tr>\n",
       "    <tr>\n",
       "      <th>10</th>\n",
       "      <td>bulk</td>\n",
       "    </tr>\n",
       "    <tr>\n",
       "      <th>11</th>\n",
       "      <td>personal care</td>\n",
       "    </tr>\n",
       "    <tr>\n",
       "      <th>12</th>\n",
       "      <td>meat seafood</td>\n",
       "    </tr>\n",
       "    <tr>\n",
       "      <th>13</th>\n",
       "      <td>pantry</td>\n",
       "    </tr>\n",
       "    <tr>\n",
       "      <th>14</th>\n",
       "      <td>breakfast</td>\n",
       "    </tr>\n",
       "    <tr>\n",
       "      <th>15</th>\n",
       "      <td>canned goods</td>\n",
       "    </tr>\n",
       "    <tr>\n",
       "      <th>16</th>\n",
       "      <td>dairy eggs</td>\n",
       "    </tr>\n",
       "    <tr>\n",
       "      <th>17</th>\n",
       "      <td>household</td>\n",
       "    </tr>\n",
       "    <tr>\n",
       "      <th>18</th>\n",
       "      <td>babies</td>\n",
       "    </tr>\n",
       "    <tr>\n",
       "      <th>19</th>\n",
       "      <td>snacks</td>\n",
       "    </tr>\n",
       "    <tr>\n",
       "      <th>20</th>\n",
       "      <td>deli</td>\n",
       "    </tr>\n",
       "    <tr>\n",
       "      <th>21</th>\n",
       "      <td>missing</td>\n",
       "    </tr>\n",
       "  </tbody>\n",
       "</table>\n",
       "</div>"
      ],
      "text/plain": [
       "department_id       department\n",
       "1                       frozen\n",
       "2                        other\n",
       "3                       bakery\n",
       "4                      produce\n",
       "5                      alcohol\n",
       "6                international\n",
       "7                    beverages\n",
       "8                         pets\n",
       "9              dry goods pasta\n",
       "10                        bulk\n",
       "11               personal care\n",
       "12                meat seafood\n",
       "13                      pantry\n",
       "14                   breakfast\n",
       "15                canned goods\n",
       "16                  dairy eggs\n",
       "17                   household\n",
       "18                      babies\n",
       "19                      snacks\n",
       "20                        deli\n",
       "21                     missing"
      ]
     },
     "execution_count": 134,
     "metadata": {},
     "output_type": "execute_result"
    }
   ],
   "source": [
    "df_dep_t_new"
   ]
  },
  {
   "cell_type": "code",
   "execution_count": 135,
   "id": "4494aed9-94ca-4fb9-9268-0c66973f6569",
   "metadata": {},
   "outputs": [
    {
     "data": {
      "text/plain": [
       "(21, 1)"
      ]
     },
     "execution_count": 135,
     "metadata": {},
     "output_type": "execute_result"
    }
   ],
   "source": [
    "df_dep_t_new.shape"
   ]
  },
  {
   "cell_type": "code",
   "execution_count": 136,
   "id": "c97e6a0b-b9fb-4cab-a3f3-16fdef713263",
   "metadata": {},
   "outputs": [],
   "source": [
    "#Assign a name to the index\n",
    "df_dep_t_new.index.name='department_id'"
   ]
  },
  {
   "cell_type": "code",
   "execution_count": 137,
   "id": "8a46eccb-4307-48ec-a525-734636e13c1d",
   "metadata": {},
   "outputs": [],
   "source": [
    "# reset the index to convert 'department_id' from index to column\n",
    "df_dep_t_new.reset_index(inplace=True)"
   ]
  },
  {
   "cell_type": "code",
   "execution_count": 138,
   "id": "429edfc2-69e9-4057-b1c6-7074217aab29",
   "metadata": {},
   "outputs": [
    {
     "data": {
      "text/html": [
       "<div>\n",
       "<style scoped>\n",
       "    .dataframe tbody tr th:only-of-type {\n",
       "        vertical-align: middle;\n",
       "    }\n",
       "\n",
       "    .dataframe tbody tr th {\n",
       "        vertical-align: top;\n",
       "    }\n",
       "\n",
       "    .dataframe thead th {\n",
       "        text-align: right;\n",
       "    }\n",
       "</style>\n",
       "<table border=\"1\" class=\"dataframe\">\n",
       "  <thead>\n",
       "    <tr style=\"text-align: right;\">\n",
       "      <th>department_id</th>\n",
       "      <th>department_id</th>\n",
       "      <th>department</th>\n",
       "    </tr>\n",
       "  </thead>\n",
       "  <tbody>\n",
       "    <tr>\n",
       "      <th>0</th>\n",
       "      <td>1</td>\n",
       "      <td>frozen</td>\n",
       "    </tr>\n",
       "    <tr>\n",
       "      <th>1</th>\n",
       "      <td>2</td>\n",
       "      <td>other</td>\n",
       "    </tr>\n",
       "    <tr>\n",
       "      <th>2</th>\n",
       "      <td>3</td>\n",
       "      <td>bakery</td>\n",
       "    </tr>\n",
       "    <tr>\n",
       "      <th>3</th>\n",
       "      <td>4</td>\n",
       "      <td>produce</td>\n",
       "    </tr>\n",
       "    <tr>\n",
       "      <th>4</th>\n",
       "      <td>5</td>\n",
       "      <td>alcohol</td>\n",
       "    </tr>\n",
       "    <tr>\n",
       "      <th>5</th>\n",
       "      <td>6</td>\n",
       "      <td>international</td>\n",
       "    </tr>\n",
       "    <tr>\n",
       "      <th>6</th>\n",
       "      <td>7</td>\n",
       "      <td>beverages</td>\n",
       "    </tr>\n",
       "    <tr>\n",
       "      <th>7</th>\n",
       "      <td>8</td>\n",
       "      <td>pets</td>\n",
       "    </tr>\n",
       "    <tr>\n",
       "      <th>8</th>\n",
       "      <td>9</td>\n",
       "      <td>dry goods pasta</td>\n",
       "    </tr>\n",
       "    <tr>\n",
       "      <th>9</th>\n",
       "      <td>10</td>\n",
       "      <td>bulk</td>\n",
       "    </tr>\n",
       "    <tr>\n",
       "      <th>10</th>\n",
       "      <td>11</td>\n",
       "      <td>personal care</td>\n",
       "    </tr>\n",
       "    <tr>\n",
       "      <th>11</th>\n",
       "      <td>12</td>\n",
       "      <td>meat seafood</td>\n",
       "    </tr>\n",
       "    <tr>\n",
       "      <th>12</th>\n",
       "      <td>13</td>\n",
       "      <td>pantry</td>\n",
       "    </tr>\n",
       "    <tr>\n",
       "      <th>13</th>\n",
       "      <td>14</td>\n",
       "      <td>breakfast</td>\n",
       "    </tr>\n",
       "    <tr>\n",
       "      <th>14</th>\n",
       "      <td>15</td>\n",
       "      <td>canned goods</td>\n",
       "    </tr>\n",
       "    <tr>\n",
       "      <th>15</th>\n",
       "      <td>16</td>\n",
       "      <td>dairy eggs</td>\n",
       "    </tr>\n",
       "    <tr>\n",
       "      <th>16</th>\n",
       "      <td>17</td>\n",
       "      <td>household</td>\n",
       "    </tr>\n",
       "    <tr>\n",
       "      <th>17</th>\n",
       "      <td>18</td>\n",
       "      <td>babies</td>\n",
       "    </tr>\n",
       "    <tr>\n",
       "      <th>18</th>\n",
       "      <td>19</td>\n",
       "      <td>snacks</td>\n",
       "    </tr>\n",
       "    <tr>\n",
       "      <th>19</th>\n",
       "      <td>20</td>\n",
       "      <td>deli</td>\n",
       "    </tr>\n",
       "    <tr>\n",
       "      <th>20</th>\n",
       "      <td>21</td>\n",
       "      <td>missing</td>\n",
       "    </tr>\n",
       "  </tbody>\n",
       "</table>\n",
       "</div>"
      ],
      "text/plain": [
       "department_id department_id       department\n",
       "0                         1           frozen\n",
       "1                         2            other\n",
       "2                         3           bakery\n",
       "3                         4          produce\n",
       "4                         5          alcohol\n",
       "5                         6    international\n",
       "6                         7        beverages\n",
       "7                         8             pets\n",
       "8                         9  dry goods pasta\n",
       "9                        10             bulk\n",
       "10                       11    personal care\n",
       "11                       12     meat seafood\n",
       "12                       13           pantry\n",
       "13                       14        breakfast\n",
       "14                       15     canned goods\n",
       "15                       16       dairy eggs\n",
       "16                       17        household\n",
       "17                       18           babies\n",
       "18                       19           snacks\n",
       "19                       20             deli\n",
       "20                       21          missing"
      ]
     },
     "execution_count": 138,
     "metadata": {},
     "output_type": "execute_result"
    }
   ],
   "source": [
    "df_dep_t_new"
   ]
  },
  {
   "cell_type": "markdown",
   "id": "053dc915-4a0b-4c83-8a40-d9563c38755a",
   "metadata": {},
   "source": [
    "# Observation:\n",
    "The dataframe is no longer wide and the header has been fixed succesfully"
   ]
  },
  {
   "cell_type": "markdown",
   "id": "66081b61-f355-46b2-8441-3971a3a7b319",
   "metadata": {},
   "source": [
    "# 4. Creating Data Dictionary"
   ]
  },
  {
   "cell_type": "code",
   "execution_count": 141,
   "id": "eca422c5-e4f9-4956-8e4b-c1d6a529e969",
   "metadata": {},
   "outputs": [],
   "source": [
    "data_dict=df_dep_t_new.to_dict('index')"
   ]
  },
  {
   "cell_type": "code",
   "execution_count": 142,
   "id": "f79eb293-93cc-451d-989a-8af1ecf90d5a",
   "metadata": {},
   "outputs": [
    {
     "data": {
      "text/plain": [
       "{0: {'department_id': '1', 'department': 'frozen'},\n",
       " 1: {'department_id': '2', 'department': 'other'},\n",
       " 2: {'department_id': '3', 'department': 'bakery'},\n",
       " 3: {'department_id': '4', 'department': 'produce'},\n",
       " 4: {'department_id': '5', 'department': 'alcohol'},\n",
       " 5: {'department_id': '6', 'department': 'international'},\n",
       " 6: {'department_id': '7', 'department': 'beverages'},\n",
       " 7: {'department_id': '8', 'department': 'pets'},\n",
       " 8: {'department_id': '9', 'department': 'dry goods pasta'},\n",
       " 9: {'department_id': '10', 'department': 'bulk'},\n",
       " 10: {'department_id': '11', 'department': 'personal care'},\n",
       " 11: {'department_id': '12', 'department': 'meat seafood'},\n",
       " 12: {'department_id': '13', 'department': 'pantry'},\n",
       " 13: {'department_id': '14', 'department': 'breakfast'},\n",
       " 14: {'department_id': '15', 'department': 'canned goods'},\n",
       " 15: {'department_id': '16', 'department': 'dairy eggs'},\n",
       " 16: {'department_id': '17', 'department': 'household'},\n",
       " 17: {'department_id': '18', 'department': 'babies'},\n",
       " 18: {'department_id': '19', 'department': 'snacks'},\n",
       " 19: {'department_id': '20', 'department': 'deli'},\n",
       " 20: {'department_id': '21', 'department': 'missing'}}"
      ]
     },
     "execution_count": 142,
     "metadata": {},
     "output_type": "execute_result"
    }
   ],
   "source": [
    "data_dict"
   ]
  },
  {
   "cell_type": "markdown",
   "id": "65ffb919-d0af-4dc0-89af-1a94a1d9d585",
   "metadata": {},
   "source": [
    "# Observation:\n",
    "The department_id 4 means the \"produce\" category."
   ]
  },
  {
   "cell_type": "code",
   "execution_count": 144,
   "id": "d777288c-3084-4e2a-b12b-c0ac23c5cbbc",
   "metadata": {},
   "outputs": [
    {
     "data": {
      "text/html": [
       "<div>\n",
       "<style scoped>\n",
       "    .dataframe tbody tr th:only-of-type {\n",
       "        vertical-align: middle;\n",
       "    }\n",
       "\n",
       "    .dataframe tbody tr th {\n",
       "        vertical-align: top;\n",
       "    }\n",
       "\n",
       "    .dataframe thead th {\n",
       "        text-align: right;\n",
       "    }\n",
       "</style>\n",
       "<table border=\"1\" class=\"dataframe\">\n",
       "  <thead>\n",
       "    <tr style=\"text-align: right;\">\n",
       "      <th></th>\n",
       "      <th>product_id</th>\n",
       "      <th>product_name</th>\n",
       "      <th>aisle_id</th>\n",
       "      <th>department_id</th>\n",
       "      <th>prices</th>\n",
       "    </tr>\n",
       "  </thead>\n",
       "  <tbody>\n",
       "    <tr>\n",
       "      <th>30</th>\n",
       "      <td>31</td>\n",
       "      <td>White Pearl Onions</td>\n",
       "      <td>123</td>\n",
       "      <td>4</td>\n",
       "      <td>7.5</td>\n",
       "    </tr>\n",
       "    <tr>\n",
       "      <th>42</th>\n",
       "      <td>43</td>\n",
       "      <td>Organic Clementines</td>\n",
       "      <td>123</td>\n",
       "      <td>4</td>\n",
       "      <td>11.5</td>\n",
       "    </tr>\n",
       "    <tr>\n",
       "      <th>44</th>\n",
       "      <td>45</td>\n",
       "      <td>European Cucumber</td>\n",
       "      <td>83</td>\n",
       "      <td>4</td>\n",
       "      <td>14.3</td>\n",
       "    </tr>\n",
       "    <tr>\n",
       "      <th>65</th>\n",
       "      <td>66</td>\n",
       "      <td>European Style Spring Mix</td>\n",
       "      <td>123</td>\n",
       "      <td>4</td>\n",
       "      <td>11.7</td>\n",
       "    </tr>\n",
       "    <tr>\n",
       "      <th>88</th>\n",
       "      <td>89</td>\n",
       "      <td>Yogurt Fruit Dip Sliced Apples</td>\n",
       "      <td>123</td>\n",
       "      <td>4</td>\n",
       "      <td>12.6</td>\n",
       "    </tr>\n",
       "    <tr>\n",
       "      <th>...</th>\n",
       "      <td>...</td>\n",
       "      <td>...</td>\n",
       "      <td>...</td>\n",
       "      <td>...</td>\n",
       "      <td>...</td>\n",
       "    </tr>\n",
       "    <tr>\n",
       "      <th>49582</th>\n",
       "      <td>49578</td>\n",
       "      <td>Black Garlic Bulbs</td>\n",
       "      <td>123</td>\n",
       "      <td>4</td>\n",
       "      <td>8.0</td>\n",
       "    </tr>\n",
       "    <tr>\n",
       "      <th>49623</th>\n",
       "      <td>49619</td>\n",
       "      <td>Opo Squash</td>\n",
       "      <td>83</td>\n",
       "      <td>4</td>\n",
       "      <td>12.7</td>\n",
       "    </tr>\n",
       "    <tr>\n",
       "      <th>49639</th>\n",
       "      <td>49635</td>\n",
       "      <td>Baby Food Blueberry, Parsnip &amp; Buckwheat Stage 2</td>\n",
       "      <td>83</td>\n",
       "      <td>4</td>\n",
       "      <td>12.5</td>\n",
       "    </tr>\n",
       "    <tr>\n",
       "      <th>49661</th>\n",
       "      <td>49657</td>\n",
       "      <td>Cabernet Tomatoes</td>\n",
       "      <td>83</td>\n",
       "      <td>4</td>\n",
       "      <td>8.3</td>\n",
       "    </tr>\n",
       "    <tr>\n",
       "      <th>49687</th>\n",
       "      <td>49683</td>\n",
       "      <td>Cucumber Kirby</td>\n",
       "      <td>83</td>\n",
       "      <td>4</td>\n",
       "      <td>13.2</td>\n",
       "    </tr>\n",
       "  </tbody>\n",
       "</table>\n",
       "<p>1684 rows × 5 columns</p>\n",
       "</div>"
      ],
      "text/plain": [
       "       product_id                                      product_name  aisle_id  \\\n",
       "30             31                                White Pearl Onions       123   \n",
       "42             43                               Organic Clementines       123   \n",
       "44             45                                 European Cucumber        83   \n",
       "65             66                         European Style Spring Mix       123   \n",
       "88             89                    Yogurt Fruit Dip Sliced Apples       123   \n",
       "...           ...                                               ...       ...   \n",
       "49582       49578                                Black Garlic Bulbs       123   \n",
       "49623       49619                                        Opo Squash        83   \n",
       "49639       49635  Baby Food Blueberry, Parsnip & Buckwheat Stage 2        83   \n",
       "49661       49657                                 Cabernet Tomatoes        83   \n",
       "49687       49683                                    Cucumber Kirby        83   \n",
       "\n",
       "       department_id  prices  \n",
       "30                 4     7.5  \n",
       "42                 4    11.5  \n",
       "44                 4    14.3  \n",
       "65                 4    11.7  \n",
       "88                 4    12.6  \n",
       "...              ...     ...  \n",
       "49582              4     8.0  \n",
       "49623              4    12.7  \n",
       "49639              4    12.5  \n",
       "49661              4     8.3  \n",
       "49687              4    13.2  \n",
       "\n",
       "[1684 rows x 5 columns]"
      ]
     },
     "execution_count": 144,
     "metadata": {},
     "output_type": "execute_result"
    }
   ],
   "source": [
    "df_prods[df_prods['department_id']==4]"
   ]
  },
  {
   "cell_type": "code",
   "execution_count": 145,
   "id": "fad19981-506c-4637-b2c3-e6f0a85da556",
   "metadata": {},
   "outputs": [],
   "source": [
    "# 6. Subsetting breakfast item sales\n",
    "df_breakfast=df_prods[df_prods['department_id']==14]"
   ]
  },
  {
   "cell_type": "code",
   "execution_count": 146,
   "id": "870b6e3a-62c8-4d0c-8494-092ed439d73a",
   "metadata": {},
   "outputs": [
    {
     "data": {
      "text/html": [
       "<div>\n",
       "<style scoped>\n",
       "    .dataframe tbody tr th:only-of-type {\n",
       "        vertical-align: middle;\n",
       "    }\n",
       "\n",
       "    .dataframe tbody tr th {\n",
       "        vertical-align: top;\n",
       "    }\n",
       "\n",
       "    .dataframe thead th {\n",
       "        text-align: right;\n",
       "    }\n",
       "</style>\n",
       "<table border=\"1\" class=\"dataframe\">\n",
       "  <thead>\n",
       "    <tr style=\"text-align: right;\">\n",
       "      <th></th>\n",
       "      <th>product_id</th>\n",
       "      <th>product_name</th>\n",
       "      <th>aisle_id</th>\n",
       "      <th>department_id</th>\n",
       "      <th>prices</th>\n",
       "    </tr>\n",
       "  </thead>\n",
       "  <tbody>\n",
       "    <tr>\n",
       "      <th>27</th>\n",
       "      <td>28</td>\n",
       "      <td>Wheat Chex Cereal</td>\n",
       "      <td>121</td>\n",
       "      <td>14</td>\n",
       "      <td>10.1</td>\n",
       "    </tr>\n",
       "    <tr>\n",
       "      <th>33</th>\n",
       "      <td>34</td>\n",
       "      <td>NaN</td>\n",
       "      <td>121</td>\n",
       "      <td>14</td>\n",
       "      <td>12.2</td>\n",
       "    </tr>\n",
       "    <tr>\n",
       "      <th>67</th>\n",
       "      <td>68</td>\n",
       "      <td>Pancake Mix, Buttermilk</td>\n",
       "      <td>130</td>\n",
       "      <td>14</td>\n",
       "      <td>13.7</td>\n",
       "    </tr>\n",
       "    <tr>\n",
       "      <th>89</th>\n",
       "      <td>90</td>\n",
       "      <td>Smorz Cereal</td>\n",
       "      <td>121</td>\n",
       "      <td>14</td>\n",
       "      <td>3.9</td>\n",
       "    </tr>\n",
       "    <tr>\n",
       "      <th>210</th>\n",
       "      <td>211</td>\n",
       "      <td>Gluten Free Organic Cereal Coconut Maple Vanilla</td>\n",
       "      <td>130</td>\n",
       "      <td>14</td>\n",
       "      <td>3.6</td>\n",
       "    </tr>\n",
       "  </tbody>\n",
       "</table>\n",
       "</div>"
      ],
      "text/plain": [
       "     product_id                                      product_name  aisle_id  \\\n",
       "27           28                                 Wheat Chex Cereal       121   \n",
       "33           34                                               NaN       121   \n",
       "67           68                           Pancake Mix, Buttermilk       130   \n",
       "89           90                                      Smorz Cereal       121   \n",
       "210         211  Gluten Free Organic Cereal Coconut Maple Vanilla       130   \n",
       "\n",
       "     department_id  prices  \n",
       "27              14    10.1  \n",
       "33              14    12.2  \n",
       "67              14    13.7  \n",
       "89              14     3.9  \n",
       "210             14     3.6  "
      ]
     },
     "execution_count": 146,
     "metadata": {},
     "output_type": "execute_result"
    }
   ],
   "source": [
    "# Result\n",
    "df_breakfast.head()"
   ]
  },
  {
   "cell_type": "code",
   "execution_count": 147,
   "id": "1f4e7c0c-1085-4748-abcc-b3c360de8155",
   "metadata": {},
   "outputs": [],
   "source": [
    "# 7. Subsetting products that customer might use to throw dinner parties \n",
    "df_dinner_parties=df_prods.loc[df_prods['department_id'].isin([5,20,7,12])]"
   ]
  },
  {
   "cell_type": "code",
   "execution_count": 148,
   "id": "1a96de4a-fc3b-458d-99c6-2a2f281fd66f",
   "metadata": {},
   "outputs": [
    {
     "data": {
      "text/html": [
       "<div>\n",
       "<style scoped>\n",
       "    .dataframe tbody tr th:only-of-type {\n",
       "        vertical-align: middle;\n",
       "    }\n",
       "\n",
       "    .dataframe tbody tr th {\n",
       "        vertical-align: top;\n",
       "    }\n",
       "\n",
       "    .dataframe thead th {\n",
       "        text-align: right;\n",
       "    }\n",
       "</style>\n",
       "<table border=\"1\" class=\"dataframe\">\n",
       "  <thead>\n",
       "    <tr style=\"text-align: right;\">\n",
       "      <th></th>\n",
       "      <th>product_id</th>\n",
       "      <th>product_name</th>\n",
       "      <th>aisle_id</th>\n",
       "      <th>department_id</th>\n",
       "      <th>prices</th>\n",
       "    </tr>\n",
       "  </thead>\n",
       "  <tbody>\n",
       "    <tr>\n",
       "      <th>2</th>\n",
       "      <td>3</td>\n",
       "      <td>Robust Golden Unsweetened Oolong Tea</td>\n",
       "      <td>94</td>\n",
       "      <td>7</td>\n",
       "      <td>4.5</td>\n",
       "    </tr>\n",
       "    <tr>\n",
       "      <th>6</th>\n",
       "      <td>7</td>\n",
       "      <td>Pure Coconut Water With Orange</td>\n",
       "      <td>98</td>\n",
       "      <td>7</td>\n",
       "      <td>4.4</td>\n",
       "    </tr>\n",
       "    <tr>\n",
       "      <th>9</th>\n",
       "      <td>10</td>\n",
       "      <td>Sparkling Orange Juice &amp; Prickly Pear Beverage</td>\n",
       "      <td>115</td>\n",
       "      <td>7</td>\n",
       "      <td>8.4</td>\n",
       "    </tr>\n",
       "    <tr>\n",
       "      <th>10</th>\n",
       "      <td>11</td>\n",
       "      <td>Peach Mango Juice</td>\n",
       "      <td>31</td>\n",
       "      <td>7</td>\n",
       "      <td>2.8</td>\n",
       "    </tr>\n",
       "    <tr>\n",
       "      <th>16</th>\n",
       "      <td>17</td>\n",
       "      <td>Rendered Duck Fat</td>\n",
       "      <td>35</td>\n",
       "      <td>12</td>\n",
       "      <td>17.1</td>\n",
       "    </tr>\n",
       "  </tbody>\n",
       "</table>\n",
       "</div>"
      ],
      "text/plain": [
       "    product_id                                    product_name  aisle_id  \\\n",
       "2            3            Robust Golden Unsweetened Oolong Tea        94   \n",
       "6            7                  Pure Coconut Water With Orange        98   \n",
       "9           10  Sparkling Orange Juice & Prickly Pear Beverage       115   \n",
       "10          11                               Peach Mango Juice        31   \n",
       "16          17                               Rendered Duck Fat        35   \n",
       "\n",
       "    department_id  prices  \n",
       "2               7     4.5  \n",
       "6               7     4.4  \n",
       "9               7     8.4  \n",
       "10              7     2.8  \n",
       "16             12    17.1  "
      ]
     },
     "execution_count": 148,
     "metadata": {},
     "output_type": "execute_result"
    }
   ],
   "source": [
    "df_dinner_parties.head()"
   ]
  },
  {
   "cell_type": "markdown",
   "id": "96ffeee9-9f0a-4fdb-9e56-c0d526c16c5f",
   "metadata": {},
   "source": [
    "# Observation:\n",
    "The sales team can use the dataframe df_dinner_parties for their analysis."
   ]
  },
  {
   "cell_type": "code",
   "execution_count": 150,
   "id": "1e331bce-f06f-4edf-8d72-ee898a0e89c3",
   "metadata": {},
   "outputs": [
    {
     "data": {
      "text/plain": [
       "(7650, 5)"
      ]
     },
     "execution_count": 150,
     "metadata": {},
     "output_type": "execute_result"
    }
   ],
   "source": [
    "# 8. Find the number of rows\n",
    "df_dinner_parties.shape"
   ]
  },
  {
   "cell_type": "markdown",
   "id": "babc723b-35c3-48f0-97fd-ac4e76bf0737",
   "metadata": {},
   "source": [
    "# Observation:\n",
    "the new dinner party dataframe has 7650 rows."
   ]
  },
  {
   "cell_type": "code",
   "execution_count": 152,
   "id": "bcda8aab-b9a5-48ea-8475-d3eff999c393",
   "metadata": {},
   "outputs": [
    {
     "data": {
      "text/html": [
       "<div>\n",
       "<style scoped>\n",
       "    .dataframe tbody tr th:only-of-type {\n",
       "        vertical-align: middle;\n",
       "    }\n",
       "\n",
       "    .dataframe tbody tr th {\n",
       "        vertical-align: top;\n",
       "    }\n",
       "\n",
       "    .dataframe thead th {\n",
       "        text-align: right;\n",
       "    }\n",
       "</style>\n",
       "<table border=\"1\" class=\"dataframe\">\n",
       "  <thead>\n",
       "    <tr style=\"text-align: right;\">\n",
       "      <th></th>\n",
       "      <th>order_id</th>\n",
       "      <th>user_id</th>\n",
       "      <th>order_number</th>\n",
       "      <th>orders_day_of_week</th>\n",
       "      <th>order_hour_of_day</th>\n",
       "      <th>days_since_prior_order</th>\n",
       "    </tr>\n",
       "  </thead>\n",
       "  <tbody>\n",
       "    <tr>\n",
       "      <th>0</th>\n",
       "      <td>2539329</td>\n",
       "      <td>1</td>\n",
       "      <td>1</td>\n",
       "      <td>2</td>\n",
       "      <td>8</td>\n",
       "      <td>NaN</td>\n",
       "    </tr>\n",
       "    <tr>\n",
       "      <th>1</th>\n",
       "      <td>2398795</td>\n",
       "      <td>1</td>\n",
       "      <td>2</td>\n",
       "      <td>3</td>\n",
       "      <td>7</td>\n",
       "      <td>15.0</td>\n",
       "    </tr>\n",
       "    <tr>\n",
       "      <th>2</th>\n",
       "      <td>473747</td>\n",
       "      <td>1</td>\n",
       "      <td>3</td>\n",
       "      <td>3</td>\n",
       "      <td>12</td>\n",
       "      <td>21.0</td>\n",
       "    </tr>\n",
       "    <tr>\n",
       "      <th>3</th>\n",
       "      <td>2254736</td>\n",
       "      <td>1</td>\n",
       "      <td>4</td>\n",
       "      <td>4</td>\n",
       "      <td>7</td>\n",
       "      <td>29.0</td>\n",
       "    </tr>\n",
       "    <tr>\n",
       "      <th>4</th>\n",
       "      <td>431534</td>\n",
       "      <td>1</td>\n",
       "      <td>5</td>\n",
       "      <td>4</td>\n",
       "      <td>15</td>\n",
       "      <td>28.0</td>\n",
       "    </tr>\n",
       "    <tr>\n",
       "      <th>5</th>\n",
       "      <td>3367565</td>\n",
       "      <td>1</td>\n",
       "      <td>6</td>\n",
       "      <td>2</td>\n",
       "      <td>7</td>\n",
       "      <td>19.0</td>\n",
       "    </tr>\n",
       "    <tr>\n",
       "      <th>6</th>\n",
       "      <td>550135</td>\n",
       "      <td>1</td>\n",
       "      <td>7</td>\n",
       "      <td>1</td>\n",
       "      <td>9</td>\n",
       "      <td>20.0</td>\n",
       "    </tr>\n",
       "    <tr>\n",
       "      <th>7</th>\n",
       "      <td>3108588</td>\n",
       "      <td>1</td>\n",
       "      <td>8</td>\n",
       "      <td>1</td>\n",
       "      <td>14</td>\n",
       "      <td>14.0</td>\n",
       "    </tr>\n",
       "    <tr>\n",
       "      <th>8</th>\n",
       "      <td>2295261</td>\n",
       "      <td>1</td>\n",
       "      <td>9</td>\n",
       "      <td>1</td>\n",
       "      <td>16</td>\n",
       "      <td>0.0</td>\n",
       "    </tr>\n",
       "    <tr>\n",
       "      <th>9</th>\n",
       "      <td>2550362</td>\n",
       "      <td>1</td>\n",
       "      <td>10</td>\n",
       "      <td>4</td>\n",
       "      <td>8</td>\n",
       "      <td>30.0</td>\n",
       "    </tr>\n",
       "    <tr>\n",
       "      <th>10</th>\n",
       "      <td>1187899</td>\n",
       "      <td>1</td>\n",
       "      <td>11</td>\n",
       "      <td>4</td>\n",
       "      <td>8</td>\n",
       "      <td>14.0</td>\n",
       "    </tr>\n",
       "  </tbody>\n",
       "</table>\n",
       "</div>"
      ],
      "text/plain": [
       "   order_id user_id  order_number  orders_day_of_week  order_hour_of_day  \\\n",
       "0   2539329       1             1                   2                  8   \n",
       "1   2398795       1             2                   3                  7   \n",
       "2    473747       1             3                   3                 12   \n",
       "3   2254736       1             4                   4                  7   \n",
       "4    431534       1             5                   4                 15   \n",
       "5   3367565       1             6                   2                  7   \n",
       "6    550135       1             7                   1                  9   \n",
       "7   3108588       1             8                   1                 14   \n",
       "8   2295261       1             9                   1                 16   \n",
       "9   2550362       1            10                   4                  8   \n",
       "10  1187899       1            11                   4                  8   \n",
       "\n",
       "    days_since_prior_order  \n",
       "0                      NaN  \n",
       "1                     15.0  \n",
       "2                     21.0  \n",
       "3                     29.0  \n",
       "4                     28.0  \n",
       "5                     19.0  \n",
       "6                     20.0  \n",
       "7                     14.0  \n",
       "8                      0.0  \n",
       "9                     30.0  \n",
       "10                    14.0  "
      ]
     },
     "execution_count": 152,
     "metadata": {},
     "output_type": "execute_result"
    }
   ],
   "source": [
    "# 9. Finding  the information about user_id 1\n",
    "df_user_id1=df_ords.loc[df_ords['user_id']=='1']\n",
    "df_user_id1"
   ]
  },
  {
   "cell_type": "code",
   "execution_count": 153,
   "id": "cdf26c61-4ca9-4740-9619-3dd1ce4d70b8",
   "metadata": {},
   "outputs": [
    {
     "data": {
      "text/html": [
       "<div>\n",
       "<style scoped>\n",
       "    .dataframe tbody tr th:only-of-type {\n",
       "        vertical-align: middle;\n",
       "    }\n",
       "\n",
       "    .dataframe tbody tr th {\n",
       "        vertical-align: top;\n",
       "    }\n",
       "\n",
       "    .dataframe thead th {\n",
       "        text-align: right;\n",
       "    }\n",
       "</style>\n",
       "<table border=\"1\" class=\"dataframe\">\n",
       "  <thead>\n",
       "    <tr style=\"text-align: right;\">\n",
       "      <th></th>\n",
       "      <th>order_number</th>\n",
       "      <th>orders_day_of_week</th>\n",
       "      <th>order_hour_of_day</th>\n",
       "      <th>days_since_prior_order</th>\n",
       "    </tr>\n",
       "  </thead>\n",
       "  <tbody>\n",
       "    <tr>\n",
       "      <th>count</th>\n",
       "      <td>11.00</td>\n",
       "      <td>11.00</td>\n",
       "      <td>11.00</td>\n",
       "      <td>10.00</td>\n",
       "    </tr>\n",
       "    <tr>\n",
       "      <th>mean</th>\n",
       "      <td>6.00</td>\n",
       "      <td>2.64</td>\n",
       "      <td>10.09</td>\n",
       "      <td>19.00</td>\n",
       "    </tr>\n",
       "    <tr>\n",
       "      <th>std</th>\n",
       "      <td>3.32</td>\n",
       "      <td>1.29</td>\n",
       "      <td>3.48</td>\n",
       "      <td>9.03</td>\n",
       "    </tr>\n",
       "    <tr>\n",
       "      <th>min</th>\n",
       "      <td>1.00</td>\n",
       "      <td>1.00</td>\n",
       "      <td>7.00</td>\n",
       "      <td>0.00</td>\n",
       "    </tr>\n",
       "    <tr>\n",
       "      <th>25%</th>\n",
       "      <td>3.50</td>\n",
       "      <td>1.50</td>\n",
       "      <td>7.50</td>\n",
       "      <td>14.25</td>\n",
       "    </tr>\n",
       "    <tr>\n",
       "      <th>50%</th>\n",
       "      <td>6.00</td>\n",
       "      <td>3.00</td>\n",
       "      <td>8.00</td>\n",
       "      <td>19.50</td>\n",
       "    </tr>\n",
       "    <tr>\n",
       "      <th>75%</th>\n",
       "      <td>8.50</td>\n",
       "      <td>4.00</td>\n",
       "      <td>13.00</td>\n",
       "      <td>26.25</td>\n",
       "    </tr>\n",
       "    <tr>\n",
       "      <th>max</th>\n",
       "      <td>11.00</td>\n",
       "      <td>4.00</td>\n",
       "      <td>16.00</td>\n",
       "      <td>30.00</td>\n",
       "    </tr>\n",
       "  </tbody>\n",
       "</table>\n",
       "</div>"
      ],
      "text/plain": [
       "       order_number  orders_day_of_week  order_hour_of_day  \\\n",
       "count         11.00               11.00              11.00   \n",
       "mean           6.00                2.64              10.09   \n",
       "std            3.32                1.29               3.48   \n",
       "min            1.00                1.00               7.00   \n",
       "25%            3.50                1.50               7.50   \n",
       "50%            6.00                3.00               8.00   \n",
       "75%            8.50                4.00              13.00   \n",
       "max           11.00                4.00              16.00   \n",
       "\n",
       "       days_since_prior_order  \n",
       "count                   10.00  \n",
       "mean                    19.00  \n",
       "std                      9.03  \n",
       "min                      0.00  \n",
       "25%                     14.25  \n",
       "50%                     19.50  \n",
       "75%                     26.25  \n",
       "max                     30.00  "
      ]
     },
     "execution_count": 153,
     "metadata": {},
     "output_type": "execute_result"
    }
   ],
   "source": [
    "# Step 10: stats about the user's behaviour \n",
    "df_user_id1.describe().round(2)"
   ]
  },
  {
   "cell_type": "markdown",
   "id": "7221d150-1e8e-447d-9388-45d731c81da7",
   "metadata": {},
   "source": [
    "# Observation:\n",
    " The user id1 only places order from Sunday to Wednesday. most of the orders placed at 8 am or earlier,that user places orders on average every 19 days, never spend more than 30 days withoutplacing orders.The user placed 2 orders at same day."
   ]
  },
  {
   "cell_type": "markdown",
   "id": "ac5dd3ac-8ab7-4f9f-b203-0b825731cde4",
   "metadata": {},
   "source": [
    "# Export Data"
   ]
  },
  {
   "cell_type": "code",
   "execution_count": 156,
   "id": "960444ab-0270-4839-8095-e38785b6a8db",
   "metadata": {},
   "outputs": [],
   "source": [
    "# 12. Export df_ords dataframe as \"orders_wrangled.csv\" in \"Prepared Data\" folder\n",
    "df_ords.to_csv(os.path.join(path,'02 Data','Prepared Data','orders_wrangled.csv'))"
   ]
  },
  {
   "cell_type": "code",
   "execution_count": 157,
   "id": "422b0b5c-1380-418f-aa55-10314300eaf4",
   "metadata": {},
   "outputs": [],
   "source": [
    "# 12. Export departments dataframe\n",
    "df_dep_t_new.to_csv(os.path.join(path,'02 Data','Prepared Data','departments_wrangled.csv'))"
   ]
  },
  {
   "cell_type": "code",
   "execution_count": null,
   "id": "a7bafe1e-2af8-4e02-a4f1-578aaea1b07a",
   "metadata": {},
   "outputs": [],
   "source": []
  }
 ],
 "metadata": {
  "kernelspec": {
   "display_name": "Python 3 (ipykernel)",
   "language": "python",
   "name": "python3"
  },
  "language_info": {
   "codemirror_mode": {
    "name": "ipython",
    "version": 3
   },
   "file_extension": ".py",
   "mimetype": "text/x-python",
   "name": "python",
   "nbconvert_exporter": "python",
   "pygments_lexer": "ipython3",
   "version": "3.12.4"
  }
 },
 "nbformat": 4,
 "nbformat_minor": 5
}
