{
 "cells": [
  {
   "cell_type": "markdown",
   "id": "f058f220-3ce5-436e-ac72-11ac5af2a4f4",
   "metadata": {},
   "source": [
    "# Import libraries"
   ]
  },
  {
   "cell_type": "code",
   "execution_count": 5,
   "id": "62d52060-86a0-4ac5-8a05-c873f606c825",
   "metadata": {},
   "outputs": [],
   "source": [
    "# import libraries\n",
    "import pandas as pd\n",
    "import numpy as np\n",
    "import os\n",
    "import matplotlib.pyplot as plt\n",
    "import seaborn as sns\n",
    "import scipy"
   ]
  },
  {
   "cell_type": "markdown",
   "id": "3de1b30a-1c29-4d14-8b7d-e350f72c3799",
   "metadata": {},
   "source": [
    "# Create path"
   ]
  },
  {
   "cell_type": "code",
   "execution_count": 83,
   "id": "2208ca69-2b68-4cb8-9998-9c46a784cf25",
   "metadata": {},
   "outputs": [],
   "source": [
    "# Create path\n",
    "path=r'C:\\Users\\baidy\\Downloads\\11-2024 Instacart Basket Analysis'"
   ]
  },
  {
   "cell_type": "markdown",
   "id": "5f77a22a-2249-4900-a6f8-4c08d368602d",
   "metadata": {},
   "source": [
    "# 01.Import dataframe"
   ]
  },
  {
   "cell_type": "code",
   "execution_count": 85,
   "id": "8326988b-2709-40b8-b350-e89db9725845",
   "metadata": {},
   "outputs": [
    {
     "ename": "FileNotFoundError",
     "evalue": "[Errno 2] No such file or directory: 'C:\\\\Users\\\\baidy\\\\Downloads\\\\11-2024 Instacart Basket Analysis\\\\02 Data\\\\Prepared Data\\\\ords_prods_customer_merge.pkl'",
     "output_type": "error",
     "traceback": [
      "\u001b[1;31m---------------------------------------------------------------------------\u001b[0m",
      "\u001b[1;31mFileNotFoundError\u001b[0m                         Traceback (most recent call last)",
      "Cell \u001b[1;32mIn[85], line 2\u001b[0m\n\u001b[0;32m      1\u001b[0m \u001b[38;5;66;03m# import dataframe\u001b[39;00m\n\u001b[1;32m----> 2\u001b[0m ords_prods_customer_merge\u001b[38;5;241m=\u001b[39mpd\u001b[38;5;241m.\u001b[39mread_pickle(os\u001b[38;5;241m.\u001b[39mpath\u001b[38;5;241m.\u001b[39mjoin(path,\u001b[38;5;124m'\u001b[39m\u001b[38;5;124m02 Data\u001b[39m\u001b[38;5;124m'\u001b[39m,\u001b[38;5;124m'\u001b[39m\u001b[38;5;124mPrepared Data\u001b[39m\u001b[38;5;124m'\u001b[39m,\u001b[38;5;124m'\u001b[39m\u001b[38;5;124mords_prods_customer_merge.pkl\u001b[39m\u001b[38;5;124m'\u001b[39m))\n",
      "File \u001b[1;32m~\\anaconda3\\Lib\\site-packages\\pandas\\io\\pickle.py:185\u001b[0m, in \u001b[0;36mread_pickle\u001b[1;34m(filepath_or_buffer, compression, storage_options)\u001b[0m\n\u001b[0;32m    123\u001b[0m \u001b[38;5;250m\u001b[39m\u001b[38;5;124;03m\"\"\"\u001b[39;00m\n\u001b[0;32m    124\u001b[0m \u001b[38;5;124;03mLoad pickled pandas object (or any object) from file.\u001b[39;00m\n\u001b[0;32m    125\u001b[0m \n\u001b[1;32m   (...)\u001b[0m\n\u001b[0;32m    182\u001b[0m \u001b[38;5;124;03m4    4    9\u001b[39;00m\n\u001b[0;32m    183\u001b[0m \u001b[38;5;124;03m\"\"\"\u001b[39;00m\n\u001b[0;32m    184\u001b[0m excs_to_catch \u001b[38;5;241m=\u001b[39m (\u001b[38;5;167;01mAttributeError\u001b[39;00m, \u001b[38;5;167;01mImportError\u001b[39;00m, \u001b[38;5;167;01mModuleNotFoundError\u001b[39;00m, \u001b[38;5;167;01mTypeError\u001b[39;00m)\n\u001b[1;32m--> 185\u001b[0m \u001b[38;5;28;01mwith\u001b[39;00m get_handle(\n\u001b[0;32m    186\u001b[0m     filepath_or_buffer,\n\u001b[0;32m    187\u001b[0m     \u001b[38;5;124m\"\u001b[39m\u001b[38;5;124mrb\u001b[39m\u001b[38;5;124m\"\u001b[39m,\n\u001b[0;32m    188\u001b[0m     compression\u001b[38;5;241m=\u001b[39mcompression,\n\u001b[0;32m    189\u001b[0m     is_text\u001b[38;5;241m=\u001b[39m\u001b[38;5;28;01mFalse\u001b[39;00m,\n\u001b[0;32m    190\u001b[0m     storage_options\u001b[38;5;241m=\u001b[39mstorage_options,\n\u001b[0;32m    191\u001b[0m ) \u001b[38;5;28;01mas\u001b[39;00m handles:\n\u001b[0;32m    192\u001b[0m     \u001b[38;5;66;03m# 1) try standard library Pickle\u001b[39;00m\n\u001b[0;32m    193\u001b[0m     \u001b[38;5;66;03m# 2) try pickle_compat (older pandas version) to handle subclass changes\u001b[39;00m\n\u001b[0;32m    194\u001b[0m     \u001b[38;5;66;03m# 3) try pickle_compat with latin-1 encoding upon a UnicodeDecodeError\u001b[39;00m\n\u001b[0;32m    196\u001b[0m     \u001b[38;5;28;01mtry\u001b[39;00m:\n\u001b[0;32m    197\u001b[0m         \u001b[38;5;66;03m# TypeError for Cython complaints about object.__new__ vs Tick.__new__\u001b[39;00m\n\u001b[0;32m    198\u001b[0m         \u001b[38;5;28;01mtry\u001b[39;00m:\n",
      "File \u001b[1;32m~\\anaconda3\\Lib\\site-packages\\pandas\\io\\common.py:882\u001b[0m, in \u001b[0;36mget_handle\u001b[1;34m(path_or_buf, mode, encoding, compression, memory_map, is_text, errors, storage_options)\u001b[0m\n\u001b[0;32m    873\u001b[0m         handle \u001b[38;5;241m=\u001b[39m \u001b[38;5;28mopen\u001b[39m(\n\u001b[0;32m    874\u001b[0m             handle,\n\u001b[0;32m    875\u001b[0m             ioargs\u001b[38;5;241m.\u001b[39mmode,\n\u001b[1;32m   (...)\u001b[0m\n\u001b[0;32m    878\u001b[0m             newline\u001b[38;5;241m=\u001b[39m\u001b[38;5;124m\"\u001b[39m\u001b[38;5;124m\"\u001b[39m,\n\u001b[0;32m    879\u001b[0m         )\n\u001b[0;32m    880\u001b[0m     \u001b[38;5;28;01melse\u001b[39;00m:\n\u001b[0;32m    881\u001b[0m         \u001b[38;5;66;03m# Binary mode\u001b[39;00m\n\u001b[1;32m--> 882\u001b[0m         handle \u001b[38;5;241m=\u001b[39m \u001b[38;5;28mopen\u001b[39m(handle, ioargs\u001b[38;5;241m.\u001b[39mmode)\n\u001b[0;32m    883\u001b[0m     handles\u001b[38;5;241m.\u001b[39mappend(handle)\n\u001b[0;32m    885\u001b[0m \u001b[38;5;66;03m# Convert BytesIO or file objects passed with an encoding\u001b[39;00m\n",
      "\u001b[1;31mFileNotFoundError\u001b[0m: [Errno 2] No such file or directory: 'C:\\\\Users\\\\baidy\\\\Downloads\\\\11-2024 Instacart Basket Analysis\\\\02 Data\\\\Prepared Data\\\\ords_prods_customer_merge.pkl'"
     ]
    }
   ],
   "source": [
    "# import dataframe\n",
    "ords_prods_customer_merge=pd.read_pickle(os.path.join(path,'02 Data','Prepared Data','ords_prods_customer_merge.pkl'))"
   ]
  },
  {
   "cell_type": "markdown",
   "id": "2e8e76e9-a257-4f18-bf3e-75b55f66d78e",
   "metadata": {},
   "source": [
    "# Creating crosstab"
   ]
  },
  {
   "cell_type": "code",
   "execution_count": null,
   "id": "c27d2970-d32e-483c-b6e8-2369c43c437f",
   "metadata": {},
   "outputs": [],
   "source": [
    "# create crosstab\n",
    "crosstab=pd.crosstab(ords_prods_customer_merge['days_since_prior_order'],ords_prods_customer_merge['order_number'],dropna=False)"
   ]
  },
  {
   "cell_type": "code",
   "execution_count": null,
   "id": "cd8b4a88-1832-4800-9921-690e907208c4",
   "metadata": {
    "scrolled": true
   },
   "outputs": [],
   "source": [
    "crosstab"
   ]
  },
  {
   "cell_type": "code",
   "execution_count": null,
   "id": "28bc08c1-b233-4b69-bb5c-38eb137d0f11",
   "metadata": {},
   "outputs": [],
   "source": [
    "# copy the crosstab table to clipboard\n",
    "crosstab.to_clipboard()"
   ]
  },
  {
   "cell_type": "markdown",
   "id": "7bc3a7e6-ea04-4fbc-bc52-de70e71bd8f0",
   "metadata": {},
   "source": [
    "# 03. Comparing customer behaviour in different geographical areas and create regional sigmentation of the data"
   ]
  },
  {
   "cell_type": "code",
   "execution_count": null,
   "id": "0802107a-47f8-40c4-9227-11d820b52562",
   "metadata": {},
   "outputs": [],
   "source": [
    "# create 'Region ' column based on the 'State' column\n",
    "# Function to map states to regions\n",
    "def state_to_region(state):\n",
    "    northeast=['Connecticut','Maine','Massachusetts','New Hampshire','Rhode Island','Vermont','New Jersey','New York','Pennsylvania']\n",
    "    midwest=['Illinois ','Indiana','Iowa','Kansas','Michigan','Minnesota','Missouri','Nebraska','North Dakota','Ohio','South Dakota','Wisconsin']\n",
    "    south=['Albama','Arkansas','Delaware','Florida','Georgia','Kentucky','Louisiana','Maryland','Mississippi','North Carolina','Oklahoma','South Carolina','Tennessee','Texas','Virginia','West Virginia','Washington D.C.']\n",
    "    west=['Alaska','Arizona','California','Colorado','Hawaii','Idaho','Montana','Nevada','New Maxico','Oregon','Utah','Washington','Wyoming']\n",
    "    if state in northeast:\n",
    "        return 'Northeast'\n",
    "    elif state in midwest:\n",
    "        return 'Midwest'\n",
    "    elif state in south:\n",
    "        return 'South'\n",
    "    elif state in west:\n",
    "        return 'West'\n",
    "    else:\n",
    "        return 'Unknown'"
   ]
  },
  {
   "cell_type": "code",
   "execution_count": null,
   "id": "60682e9d-ba3c-4139-8ece-f065013991b9",
   "metadata": {},
   "outputs": [],
   "source": [
    "# Apply the function to create new column 'Region'\n",
    "ords_prods_customer_merge['Region']=ords_prods_customer_merge['State'].apply(state_to_region)"
   ]
  },
  {
   "cell_type": "code",
   "execution_count": null,
   "id": "8fabe004-2f18-4bf1-98de-b4819697560e",
   "metadata": {},
   "outputs": [],
   "source": [
    "# Check the dataframe\n",
    "ords_prods_customer_merge.head()"
   ]
  },
  {
   "cell_type": "markdown",
   "id": "42f268ba-3ef2-4e38-9a38-4245e998523f",
   "metadata": {},
   "source": [
    "# Determine whether there is a difference in spending habits between the different U.S. region"
   ]
  },
  {
   "cell_type": "code",
   "execution_count": null,
   "id": "be570e0b-8946-4554-b5cb-65123172fc04",
   "metadata": {},
   "outputs": [],
   "source": [
    "# crossing the two variables 'spender_flag' and 'Region'\n",
    "crosstab=pd.crosstab(ords_prods_customer_merge['Region'],ords_prods_customer_merge['spender_flag'],dropna=False)"
   ]
  },
  {
   "cell_type": "code",
   "execution_count": null,
   "id": "5d726c95-8be1-4c0a-ae42-db08b0480e59",
   "metadata": {},
   "outputs": [],
   "source": [
    "crosstab"
   ]
  },
  {
   "cell_type": "markdown",
   "id": "4f4b7907-d442-4685-bd2b-c0066f1df2ad",
   "metadata": {},
   "source": [
    "# Creating exclution flag for low activity customers and exclude them from the data"
   ]
  },
  {
   "cell_type": "code",
   "execution_count": null,
   "id": "357de2bd-77e0-4a8d-84fc-9316647702d9",
   "metadata": {},
   "outputs": [],
   "source": [
    "# create exclusion_flag for low activity customer\n",
    "ords_prods_customer_merge.loc[ords_prods_customer_merge['max_order']< 5,'activity_flag']='low-activity customer'\n",
    "ords_prods_customer_merge.loc[ords_prods_customer_merge['max_order']>= 5,'activity_flag']='high-activity customer'"
   ]
  },
  {
   "cell_type": "code",
   "execution_count": null,
   "id": "0046c5a9-c8be-44d9-8983-09c469741676",
   "metadata": {},
   "outputs": [],
   "source": [
    "ords_prods_customer_merge['activity_flag'].value_counts(dropna=False)"
   ]
  },
  {
   "cell_type": "code",
   "execution_count": null,
   "id": "5e6648b9-0877-407e-9a94-ebd858ff6304",
   "metadata": {},
   "outputs": [],
   "source": [
    "# Filter out low activity customers\n",
    "ords_prods_customer_merge_filtered=ords_prods_customer_merge.loc[ords_prods_customer_merge['activity_flag']=='low-activity customer']"
   ]
  },
  {
   "cell_type": "code",
   "execution_count": null,
   "id": "f07783d7-d531-4c2e-8f06-32fa744bff89",
   "metadata": {},
   "outputs": [],
   "source": [
    "ords_prods_customer_merge_filtered.head()"
   ]
  },
  {
   "cell_type": "code",
   "execution_count": null,
   "id": "458aff0a-622b-4517-9909-345756254eb7",
   "metadata": {},
   "outputs": [],
   "source": [
    "# save changes of the new dataframe\n",
    "ords_prods_customer_merge_filtered.to_pickle(os.path.join(path,'02 Data','Prepared Data','ords_prods_customer_merge_filtered.pkl'))"
   ]
  },
  {
   "cell_type": "markdown",
   "id": "17e82095-bc99-4d8c-8bef-ebb361676c2b",
   "metadata": {},
   "source": [
    "# 05.Create profiling variable based on age,income,certain goods in the 'department_id'column and no. of dependents ,also use the \"orders_day_of_week\" and \"order_hour_of_day\" columns"
   ]
  },
  {
   "cell_type": "code",
   "execution_count": null,
   "id": "40f22d3f-80c0-4b92-913e-c60c193fab00",
   "metadata": {},
   "outputs": [],
   "source": [
    "# checkingg the 'income' column datatype\n",
    "ords_prods_customer_merge_filtered['income'].dtype"
   ]
  },
  {
   "cell_type": "code",
   "execution_count": null,
   "id": "15078453-97ac-453c-8396-c784bd5f3555",
   "metadata": {},
   "outputs": [],
   "source": [
    "# changing the 'income'column datatype\n",
    "ords_prods_customer_merge_filtered['income']=ords_prods_customer_merge_filtered['income'].astype('int')"
   ]
  },
  {
   "cell_type": "code",
   "execution_count": null,
   "id": "6e0c5772-7a51-42ac-9a31-db13d1883a2b",
   "metadata": {},
   "outputs": [],
   "source": [
    "# Create an income group variable\n",
    "ords_prods_customer_merge_filtered.loc[ords_prods_customer_merge_filtered['income']<=55000, 'income_group']='low-income'\n",
    "ords_prods_customer_merge_filtered.loc[(ords_prods_customer_merge_filtered['income']>55000) & (ords_prods_customer_merge_filtered['income']<=150000),'income_group']='middle-income'\n",
    "ords_prods_customer_merge_filtered.loc[ords_prods_customer_merge_filtered['income']>150000, 'income_group']='high-income'"
   ]
  },
  {
   "cell_type": "code",
   "execution_count": null,
   "id": "60092b6c-9ae5-4ee9-8948-0eb56a3f6520",
   "metadata": {},
   "outputs": [],
   "source": [
    "ords_prods_customer_merge_filtered.head()"
   ]
  },
  {
   "cell_type": "code",
   "execution_count": null,
   "id": "f6bff344-77c2-4c68-bbc6-05580c22a6c2",
   "metadata": {},
   "outputs": [],
   "source": [
    "ords_prods_customer_merge_filtered['income_group'].value_counts(dropna=False)"
   ]
  },
  {
   "cell_type": "code",
   "execution_count": null,
   "id": "cd7f1d47-3cfb-4a50-9d00-597d0bd74403",
   "metadata": {},
   "outputs": [],
   "source": [
    "# creating the bar chart to showing the distribution of the 'income_group'\n",
    "income_group_counts=ords_prods_customer_merge_filtered['income_group'].value_counts(dropna=False)\n",
    "income_group_distribution_bar=income_group_counts.plot.bar()\n",
    "plt.title('Distribution of income groups')"
   ]
  },
  {
   "cell_type": "code",
   "execution_count": null,
   "id": "20c6c042-1e3f-4641-862d-ba09315e601c",
   "metadata": {},
   "outputs": [],
   "source": [
    "# Export the bar chart\n",
    "income_group_distribution_bar.figure.savefig(os.path.join(path,'04 Analysis','Visualizations','income_distribution_bar.png'))"
   ]
  },
  {
   "cell_type": "code",
   "execution_count": null,
   "id": "b529dfc2-a42e-4925-bca2-124abde01235",
   "metadata": {},
   "outputs": [],
   "source": [
    "# check the column 'Age'\n",
    "ords_prods_customer_merge_filtered['Age'].dtype"
   ]
  },
  {
   "cell_type": "code",
   "execution_count": null,
   "id": "bbd3d793-8261-479a-bc0b-5d921099884a",
   "metadata": {},
   "outputs": [],
   "source": [
    "# change the data type\n",
    "ords_prods_customer_merge_filtered['Age']=ords_prods_customer_merge_filtered['Age'].astype('int')"
   ]
  },
  {
   "cell_type": "code",
   "execution_count": null,
   "id": "4dc8a670-3a33-4dd2-aa04-14bf6563e715",
   "metadata": {},
   "outputs": [],
   "source": [
    "# Create an age group variable\n",
    "ords_prods_customer_merge_filtered.loc[ords_prods_customer_merge_filtered['Age']<=25,'age_group']='young'\n",
    "ords_prods_customer_merge_filtered.loc[(ords_prods_customer_merge_filtered['Age']>25) & (ords_prods_customer_merge_filtered['Age']<=44),'age_group']='adult'\n",
    "ords_prods_customer_merge_filtered.loc[(ords_prods_customer_merge_filtered['Age']>44) &(ords_prods_customer_merge_filtered['Age']<=64),'age_group']='middle aged'\n",
    "ords_prods_customer_merge_filtered.loc[ords_prods_customer_merge_filtered['Age']>64, 'age_group']='senior'"
   ]
  },
  {
   "cell_type": "code",
   "execution_count": null,
   "id": "5e1d8389-0410-4534-87f9-8af2cd79bb71",
   "metadata": {},
   "outputs": [],
   "source": [
    "# Check value counts of the age groups\n",
    "ords_prods_customer_merge_filtered['age_group'].value_counts(dropna=False)"
   ]
  },
  {
   "cell_type": "code",
   "execution_count": null,
   "id": "5a67a0fd-70c3-4003-a0b9-2872fe401619",
   "metadata": {},
   "outputs": [],
   "source": [
    "# Create a bar chart to showing the distribution of age groups\n",
    "age_group_counts=ords_prods_customer_merge_filtered['age_group'].value_counts(dropna=False)\n",
    "age_group_distribution_bar=age_group_counts.plot.bar()\n",
    "plt.title('Distribution of age groups')"
   ]
  },
  {
   "cell_type": "code",
   "execution_count": null,
   "id": "0dd57665-af61-4865-b766-7c66b77056c9",
   "metadata": {},
   "outputs": [],
   "source": [
    "# Export the chart\n",
    "age_group_distribution_bar.figure.savefig(os.path.join(path,'04 Analysis','Visualizations','age_group_distribution_bar.png'))"
   ]
  },
  {
   "cell_type": "code",
   "execution_count": null,
   "id": "3af40ee7-4a28-4276-99f5-90bf64329f65",
   "metadata": {},
   "outputs": [],
   "source": [
    "# check the 'no_of_dependants'column datatype\n",
    "ords_prods_customer_merge_filtered['no_of_dependants'].dtype"
   ]
  },
  {
   "cell_type": "code",
   "execution_count": null,
   "id": "f2f5c379-2944-4b47-b83e-51f43d76c38a",
   "metadata": {},
   "outputs": [],
   "source": [
    "# change the data type \n",
    "ords_prods_customer_merge_filtered['no_of_dependants']=ords_prods_customer_merge_filtered['no_of_dependants'].astype('int')"
   ]
  },
  {
   "cell_type": "code",
   "execution_count": null,
   "id": "56f9a03d-4211-423d-87fe-f2a7fc690aca",
   "metadata": {},
   "outputs": [],
   "source": [
    "# Create dependents flag\n",
    "ords_prods_customer_merge_filtered.loc[ords_prods_customer_merge_filtered['no_of_dependants']==0,'dependants_flag']='no dependants'\n",
    "ords_prods_customer_merge_filtered.loc[ords_prods_customer_merge_filtered['no_of_dependants']>=1, 'dependants_flag']='has dependants'"
   ]
  },
  {
   "cell_type": "code",
   "execution_count": null,
   "id": "c950d774-c211-4d84-98aa-656b43ed3ec5",
   "metadata": {},
   "outputs": [],
   "source": [
    "# checkk value counts of dependants flag\n",
    "ords_prods_customer_merge_filtered['dependants_flag'].value_counts(dropna=False)"
   ]
  },
  {
   "cell_type": "code",
   "execution_count": null,
   "id": "345e0fb9-ca10-4dc7-a3db-c8fe6166af49",
   "metadata": {},
   "outputs": [],
   "source": [
    "# Creating a pie chart showing the dependants percentage\n",
    "dependant_counts=ords_prods_customer_merge_filtered['dependants_flag'].value_counts(dropna=False)\n",
    "dependants_pie=dependant_counts.plot.pie(autopct='%1.1f%%',labels=['has dependants','no dependants'],startangle=90,colors=['#ff9999','#66b3ff'])\n",
    "plt.title('Dependants percentage')"
   ]
  },
  {
   "cell_type": "code",
   "execution_count": null,
   "id": "696dd919-b38d-4254-adbe-e53f1f7fded0",
   "metadata": {},
   "outputs": [],
   "source": [
    "# Export the pic chart\n",
    "dependants_pie.figure.savefig(os.path.join(path,'04 Analysis','Visualizations','dependants_pie.png'))"
   ]
  },
  {
   "cell_type": "code",
   "execution_count": null,
   "id": "2f4569da-71a9-48db-8bed-8810b54437f6",
   "metadata": {},
   "outputs": [],
   "source": [
    "# Export the new dataframe\n",
    "ords_prods_customer_merge_filtered.to_pickle(os.path.join(path,'02 Data','Prepared Data','low_activity_excluded.pkl'))"
   ]
  },
  {
   "cell_type": "code",
   "execution_count": null,
   "id": "b0956cc4-929a-4f5b-a395-56fe0b823843",
   "metadata": {},
   "outputs": [],
   "source": [
    "# Import dataframe\n",
    "df_excluded=pd.read_pickle(os.path.join(path,'02 Data','Prepared Data','low_activity_excluded.pkl'))"
   ]
  },
  {
   "cell_type": "code",
   "execution_count": null,
   "id": "cb37c986-7f65-4b01-aefc-6e8397ef91ae",
   "metadata": {},
   "outputs": [],
   "source": [
    "# Check the new dataframe columns\n",
    "list(df_excluded.columns.values)"
   ]
  },
  {
   "cell_type": "markdown",
   "id": "aa7f9ac2-6047-4ffb-82ec-60a4da237748",
   "metadata": {},
   "source": [
    "# Loyalty VS Age groups"
   ]
  },
  {
   "cell_type": "code",
   "execution_count": null,
   "id": "00598b1b-d1fa-4273-9b68-0d9832e58dae",
   "metadata": {},
   "outputs": [],
   "source": [
    "# Creating crosstab  of 'loyalty_flag' with 'age_graoup'\n",
    "cross_loyalty_age=pd.crosstab(df_excluded['age_group'], df_excluded['loyalty_flag'],dropna=False)"
   ]
  },
  {
   "cell_type": "code",
   "execution_count": null,
   "id": "acf53184-6c92-4d78-bc92-8b637ea2a871",
   "metadata": {},
   "outputs": [],
   "source": [
    "cross_loyalty_age"
   ]
  },
  {
   "cell_type": "code",
   "execution_count": null,
   "id": "83a5892e-b9af-4430-a380-d3ab4ae48738",
   "metadata": {},
   "outputs": [],
   "source": [
    "# create bar chart\n",
    "loyalty_age_bar=cross_loyalty_age.plot.bar()\n",
    "plt.title('Loyalty by age group')"
   ]
  },
  {
   "cell_type": "code",
   "execution_count": null,
   "id": "0006ff77-5c8a-4369-a8bf-173feb35525a",
   "metadata": {},
   "outputs": [],
   "source": [
    "# Export the chart\n",
    "loyalty_age_bar.figure.savefig(os.path.join(path,'04 Analysis','Visualizations','loyalty_age_group_bar.png'))"
   ]
  },
  {
   "cell_type": "markdown",
   "id": "ba9e8dc0-38c5-4c54-af5b-964a88bc2586",
   "metadata": {},
   "source": [
    "# Spending vs age group"
   ]
  },
  {
   "cell_type": "code",
   "execution_count": null,
   "id": "42b5d2bf-e770-4f52-96ed-942b99093703",
   "metadata": {},
   "outputs": [],
   "source": [
    "# Crosstab spending with age group\n",
    "cross_spending_age=pd.crosstab(df_excluded['spender_flag'],df_excluded['age_group'],dropna=False)"
   ]
  },
  {
   "cell_type": "code",
   "execution_count": null,
   "id": "85bf00fd-4804-4e26-aced-82dd8d5ac71a",
   "metadata": {},
   "outputs": [],
   "source": [
    "cross_spending_age"
   ]
  },
  {
   "cell_type": "code",
   "execution_count": null,
   "id": "75dbb94e-bd6f-43bb-a109-d9da6a9f7eee",
   "metadata": {},
   "outputs": [],
   "source": [
    "# create bar chart\n",
    "spending_age_bar=cross_spending_age.plot.bar()\n",
    "plt.title('Spending by Age group')"
   ]
  },
  {
   "cell_type": "code",
   "execution_count": null,
   "id": "8b75ad51-b963-4d6f-951f-bb63805cb8cc",
   "metadata": {},
   "outputs": [],
   "source": [
    "# Export the chart\n",
    "spending_age_bar.figure.savefig(os.path.join(path,'04 Analysis','Visualizations','spending_age_group_bar.png'))"
   ]
  },
  {
   "cell_type": "markdown",
   "id": "c005788f-b631-4769-af51-1d6378f4fa54",
   "metadata": {},
   "source": [
    "# Redo regional spending with low activity customers excluded"
   ]
  },
  {
   "cell_type": "code",
   "execution_count": null,
   "id": "527fd634-15b9-4672-8a85-c5af35e16f38",
   "metadata": {},
   "outputs": [],
   "source": [
    "df_excluded.loc[df_excluded['State']=='Pennsylvania','Region']='Northeast'"
   ]
  },
  {
   "cell_type": "code",
   "execution_count": null,
   "id": "dda10a3a-537a-4fd1-9619-01216efae8a1",
   "metadata": {},
   "outputs": [],
   "source": [
    "# Crosstab region to spending flag\n",
    "region_spending_cross=pd.crosstab(df_excluded['Region'],df_excluded['spender_flag'],dropna=False)"
   ]
  },
  {
   "cell_type": "code",
   "execution_count": null,
   "id": "8316e9db-f581-446b-ada6-a1dcd7cdf8de",
   "metadata": {},
   "outputs": [],
   "source": [
    "region_spending_cross"
   ]
  },
  {
   "cell_type": "code",
   "execution_count": null,
   "id": "a3e7a147-050e-4478-a6e0-f006e0979357",
   "metadata": {},
   "outputs": [],
   "source": [
    "# Creating Bar chart\n",
    "region_spending_bar=region_spending_cross.plot.bar()\n",
    "plt.title('Spending by region')\n",
    "plt.ylabel('Rigion')\n",
    "plt.legend(bbox_to_anchor=(1.05,1), fontsize=12,title_fontsize=14)"
   ]
  },
  {
   "cell_type": "code",
   "execution_count": null,
   "id": "865f5404-75c8-4a6e-9f60-2a9030897aef",
   "metadata": {},
   "outputs": [],
   "source": [
    "# Export the chart\n",
    "region_spending_bar.figure.savefig(os.path.join(path,'04 Analysis','Visualizations','region_spending_bar.png'))"
   ]
  },
  {
   "cell_type": "markdown",
   "id": "1837e104-1b3d-4143-b4b0-6f18f29fade0",
   "metadata": {},
   "source": [
    "# Orders by department'"
   ]
  },
  {
   "cell_type": "code",
   "execution_count": null,
   "id": "af1ae16e-27c0-476a-b1d4-6220c3ad3ea8",
   "metadata": {},
   "outputs": [],
   "source": [
    "df_excluded.drop(columns=['_merge'])"
   ]
  },
  {
   "cell_type": "code",
   "execution_count": null,
   "id": "bf16d949-de2e-4414-a1b7-5b0068ced74b",
   "metadata": {},
   "outputs": [],
   "source": [
    "df_excluded.columns"
   ]
  },
  {
   "cell_type": "code",
   "execution_count": null,
   "id": "b5d6b0aa-9b61-4e17-98b3-106f7e1cd3a6",
   "metadata": {},
   "outputs": [],
   "source": [
    "# import department dataframe\n",
    "dept=pd.read_csv(os.path.join(path,'02 Data','Prepared Data','departments_wrangled.csv'))"
   ]
  },
  {
   "cell_type": "code",
   "execution_count": null,
   "id": "218b15c0-4ba6-4d69-8a84-977053d0fa8a",
   "metadata": {},
   "outputs": [],
   "source": [
    "dept"
   ]
  },
  {
   "cell_type": "code",
   "execution_count": null,
   "id": "443315bd-f77d-4b63-a14d-383c00f2cb0f",
   "metadata": {},
   "outputs": [],
   "source": [
    "df_final_merged=df_excluded.merge(dept,on='department_id', indicator='created')"
   ]
  },
  {
   "cell_type": "markdown",
   "id": "3b845cb6-a97a-4259-9a54-e77d8159373d",
   "metadata": {},
   "source": [
    "# Exporting new dataframe with department merge"
   ]
  },
  {
   "cell_type": "code",
   "execution_count": null,
   "id": "5a2a5cea-65a5-4dc3-b6b9-9cdc92b81f7e",
   "metadata": {},
   "outputs": [],
   "source": [
    "#exporting dataframe\n",
    "df_final_merged.to_pickle(os.path.join(path,'02 Data','Prepared Data','ords_prods_custs_depts.pkl'))"
   ]
  },
  {
   "cell_type": "markdown",
   "id": "1a0393a5-e184-4d1b-8dde-ad03dcb1f21b",
   "metadata": {},
   "source": [
    "# Bar chart frequency of orders vs departments"
   ]
  },
  {
   "cell_type": "code",
   "execution_count": null,
   "id": "c6eee04b-5299-49ec-855d-77f0dd1b57c2",
   "metadata": {},
   "outputs": [],
   "source": [
    "# bar chart orders vs departments\n",
    "depts_bar=df_final_merged['department'].value_counts().plot.bar()\n",
    "plt.title('Products order by department')"
   ]
  },
  {
   "cell_type": "code",
   "execution_count": null,
   "id": "8fd38250-201a-4589-a077-425fa71b9716",
   "metadata": {},
   "outputs": [],
   "source": [
    "# export the bar chart\n",
    "depts_bar.figure.savefig(os.path.join(path,'04 Analysis','Visualizations','depts_bar.png'))"
   ]
  },
  {
   "cell_type": "markdown",
   "id": "cc32a5f5-fdca-4004-bba3-bf4b381e057a",
   "metadata": {},
   "source": [
    "# Age vs Department"
   ]
  },
  {
   "cell_type": "code",
   "execution_count": null,
   "id": "0bac2f89-1f8a-4fe6-bf51-bd740f503d62",
   "metadata": {},
   "outputs": [],
   "source": [
    "# Crosstab age vs department\n",
    "age_dept_cross=pd.crosstab(df_final_merged['age_group'],df_final_merged['department'],dropna=False)"
   ]
  },
  {
   "cell_type": "code",
   "execution_count": null,
   "id": "183cf698-e842-4955-842c-53a2200af73c",
   "metadata": {},
   "outputs": [],
   "source": [
    "age_dept_cross"
   ]
  },
  {
   "cell_type": "code",
   "execution_count": null,
   "id": "571266ef-25ef-4d5b-bc27-4830d3539d39",
   "metadata": {},
   "outputs": [],
   "source": [
    "# Bar chart \n",
    "age_dept_bar=age_dept_cross.plot.bar()\n",
    "plt.title('Department sales by age group')\n",
    "# move legend outside of plot\n",
    "plt.legend(title='department',bbox_to_anchor=(1.05,1), loc='upper left', fontsize=12, title_fontsize=14)"
   ]
  },
  {
   "cell_type": "code",
   "execution_count": null,
   "id": "3192afd5-3bd6-49fa-94c0-8ccd6b6c98c0",
   "metadata": {},
   "outputs": [],
   "source": [
    "# Export bar chart\n",
    "age_dept_bar.figure.savefig(os.path.join(path,'04 Analysis','Visualizations','age_depts_bar.png'))"
   ]
  },
  {
   "cell_type": "markdown",
   "id": "9ee47f3a-5e22-484e-94e0-93a766930fb4",
   "metadata": {},
   "source": [
    "# Income vs Department"
   ]
  },
  {
   "cell_type": "code",
   "execution_count": null,
   "id": "542e2eac-1fc3-4794-b858-81fa64fda701",
   "metadata": {},
   "outputs": [],
   "source": [
    "# Crosstab income group vs department\n",
    "income_dept_cross=pd.crosstab(df_final_merged['income_group'],df_final_merged['department'],dropna=False)"
   ]
  },
  {
   "cell_type": "code",
   "execution_count": null,
   "id": "21774e21-7ec5-4b15-939b-986ae72a9446",
   "metadata": {},
   "outputs": [],
   "source": [
    "income_dept_cross"
   ]
  },
  {
   "cell_type": "code",
   "execution_count": null,
   "id": "eb946ac2-d7da-4391-8b02-4138fb38b432",
   "metadata": {},
   "outputs": [],
   "source": [
    "# Bar chart\n",
    "income_dept_bar=income_dept_cross.plot.bar()\n",
    "plt.title('Department sales by income group')\n",
    "plt.xlebel=('products count')\n",
    "plt.ylebel=('income group')\n",
    "# move legend outside of plot\n",
    "plt.legend(title='department',bbox_to_anchor=(1.05,1),loc='upper left',fontsize=12, title_fontsize=14)"
   ]
  },
  {
   "cell_type": "code",
   "execution_count": null,
   "id": "b5e0d742-fba6-41b9-91d0-e310bc370002",
   "metadata": {},
   "outputs": [],
   "source": [
    "# Export the bar chart\n",
    "income_dept_bar.figure.savefig(os.path.join(path,'04 Analysis','Visualizations','income_depts_bar.png'))"
   ]
  },
  {
   "cell_type": "markdown",
   "id": "412e7a55-ddc6-4c34-84b2-05a028f90b39",
   "metadata": {},
   "source": [
    "# 7. Aggregate the max ,mean, and min variables on a customer profile level for usage frequency and expenditure"
   ]
  },
  {
   "cell_type": "code",
   "execution_count": null,
   "id": "5764fec7-4e12-4fa7-ba6d-06914667c05f",
   "metadata": {},
   "outputs": [],
   "source": [
    "# create a subset of customer profiles and show the total price of each other\n",
    "customer_profile=df_final_merged.groupby(['user_id','Gender','State','Region','no_of_dependants','fam_status','age_group','order_number','orders_day_of_week','order_hour_of_day','loyalty_flag','median_order','dependants_flag','income_group','spender_flag'])['prices'].sum().reset_index()"
   ]
  },
  {
   "cell_type": "code",
   "execution_count": null,
   "id": "ae172ff9-af51-42f6-bbe8-85350636f6a0",
   "metadata": {},
   "outputs": [],
   "source": [
    "customer_profile.head()"
   ]
  },
  {
   "cell_type": "code",
   "execution_count": null,
   "id": "90f03c7c-2d9a-4d33-8165-46ed2cecd153",
   "metadata": {},
   "outputs": [],
   "source": [
    "# Aggregatebvariablesfor customer profiles for expenditure\n",
    "customer_agg= customer_profile.groupby('user_id').agg({'order_number':['max','min','mean'],'prices':['max','min','mean']})"
   ]
  },
  {
   "cell_type": "code",
   "execution_count": null,
   "id": "11f8288c-a652-4c48-ac09-f7025fc63ba3",
   "metadata": {},
   "outputs": [],
   "source": [
    "customer_agg"
   ]
  },
  {
   "cell_type": "code",
   "execution_count": null,
   "id": "86c07323-6b80-48c7-8350-34a8b8f68d76",
   "metadata": {},
   "outputs": [],
   "source": [
    "# Aggregate variables for customer profiles for usage frequency\n",
    "freq_agg=df_excluded.groupby('user_id').agg({'order_number':['max','min','mean'],'days_since_prior_order':['max','min','mean']})"
   ]
  },
  {
   "cell_type": "code",
   "execution_count": null,
   "id": "d6b10119-b864-4f8e-bcce-13c8923f137c",
   "metadata": {},
   "outputs": [],
   "source": [
    "freq_agg"
   ]
  },
  {
   "cell_type": "markdown",
   "id": "7ba69066-97b0-410d-b9cf-7c5ab2e6ceb5",
   "metadata": {},
   "source": [
    "# 8. Compare customer profiles with region and department"
   ]
  },
  {
   "cell_type": "code",
   "execution_count": null,
   "id": "cc2f0354-3397-454c-b667-586275604c33",
   "metadata": {},
   "outputs": [],
   "source": [
    "# Region vs department\n",
    "#crosstab age group vs department\n",
    "region_dept_cross=pd.crosstab(df_final_merged['Region'],df_final_merged['department'], dropna=False)\n"
   ]
  },
  {
   "cell_type": "code",
   "execution_count": null,
   "id": "3bea68ee-e883-4e4b-b567-67556043000f",
   "metadata": {},
   "outputs": [],
   "source": [
    "region_dept_cross"
   ]
  },
  {
   "cell_type": "code",
   "execution_count": null,
   "id": "b47f72eb-9633-4aa6-b6e8-f00bffb08567",
   "metadata": {},
   "outputs": [],
   "source": [
    "# Bar chart\n",
    "region_dept_bar=region_dept_cross.plot.bar()\n",
    "plt.title('Department sales by region')\n",
    "plt.xlabel('products count')\n",
    "plt.ylabel('region')\n",
    "# Move legend outside of plot\n",
    "plt.legend(title='department',bbox_to_anchor=(1.05,1),loc='upper left',fontsize=12, title_fontsize=14)"
   ]
  },
  {
   "cell_type": "code",
   "execution_count": null,
   "id": "4dd39006-e31e-4aef-b63d-4f984f48fb9d",
   "metadata": {},
   "outputs": [],
   "source": [
    "# Export bar chart\n",
    "region_dept_bar.figure.savefig(os.path.join(path,'04 Analysis','Visualizations','region_depts_bar.png'))"
   ]
  },
  {
   "cell_type": "code",
   "execution_count": null,
   "id": "b6db2110-3bdd-4492-be8e-d91679c8f9de",
   "metadata": {},
   "outputs": [],
   "source": [
    "# import ords_prods_custs_depts\n",
    "df=pd.read_pickle(os.path.join(path,'02 Data','Prepared Data','ords_prods_custs_depts.pkl'))"
   ]
  },
  {
   "cell_type": "code",
   "execution_count": null,
   "id": "e65ce9da-817a-4cae-ae68-e3f53b690d77",
   "metadata": {},
   "outputs": [],
   "source": [
    "# Bar chart orders by day of week\n",
    "orders_day_of_week_bar=df['orders_day_of_week'].value_counts().plot.bar()\n",
    "plt.title('orders by day of week')\n",
    "plt.xlabel('Days')"
   ]
  },
  {
   "cell_type": "code",
   "execution_count": null,
   "id": "88402f3e-a3ad-4cf3-b4ff-48374961d5e7",
   "metadata": {},
   "outputs": [],
   "source": [
    "# Export the bar chart\n",
    "orders_day_of_week_bar.figure.savefig(os.path.join(path,'04 Analysis','Visualizations','orders_day_of_week_bar.png'))"
   ]
  },
  {
   "cell_type": "code",
   "execution_count": null,
   "id": "78ef693c-7411-4784-a80c-bd6de9e71a25",
   "metadata": {},
   "outputs": [],
   "source": [
    "# Histogram of hours of the day\n",
    "hours_of_day_hist=df['order_hour_of_day'].plot.hist(bins=24)\n",
    "plt.title('Orders by hour of day')\n",
    "plt.xlabel('Hours of day')"
   ]
  },
  {
   "cell_type": "code",
   "execution_count": null,
   "id": "5e49baeb-e36a-46a9-a212-53009f82940d",
   "metadata": {},
   "outputs": [],
   "source": [
    "# Export histogram\n",
    "hours_of_day_hist.figure.savefig(os.path.join(path, '04 Analysis','Visualizations','hours_of_day_hist.png'))"
   ]
  },
  {
   "cell_type": "code",
   "execution_count": null,
   "id": "91c8f860-d80f-4d34-99c6-57cb0fdd6b25",
   "metadata": {},
   "outputs": [],
   "source": [
    "# Crosstab loyalty with age group\n",
    "loyalty_income_cross=pd.crosstab(df['loyalty_flag'],df['income_group'],dropna=False)"
   ]
  },
  {
   "cell_type": "code",
   "execution_count": null,
   "id": "c118769b-7df7-4550-bea4-76741408ce20",
   "metadata": {},
   "outputs": [],
   "source": [
    "loyalty_income_cross"
   ]
  },
  {
   "cell_type": "code",
   "execution_count": null,
   "id": "7e19d57a-7681-4e40-a046-3d475efe7210",
   "metadata": {},
   "outputs": [],
   "source": [
    "# Bar chart\n",
    "loyalty_income_bar=loyalty_income_cross.plot.bar()\n",
    "plt.title('loyalty by income group')\n",
    "plt.xlabel('')\n",
    "plt.ylabel('count')\n",
    "plt.xticks(rotation=0)"
   ]
  },
  {
   "cell_type": "code",
   "execution_count": null,
   "id": "c8243e5a-bf1b-4770-8668-d45ca3bbbd3b",
   "metadata": {},
   "outputs": [],
   "source": [
    "# Export the chart\n",
    "loyalty_income_bar.figure.savefig(os.path.join(path, '04 Analysis','Visualizations','loyalty_income_group_bar.png'))"
   ]
  },
  {
   "cell_type": "code",
   "execution_count": null,
   "id": "b78bd880-3f77-4ecf-aa3f-4acafc9817ed",
   "metadata": {},
   "outputs": [],
   "source": [
    "# Crosstab loyalty with spending\n",
    "loyalty_spender_cross=pd.crosstab(df['loyalty_flag'],df['spender_flag'],dropna=False)"
   ]
  },
  {
   "cell_type": "code",
   "execution_count": null,
   "id": "854047e5-9332-49ae-a0ec-b8010a624afc",
   "metadata": {},
   "outputs": [],
   "source": [
    "loyalty_spender_cross"
   ]
  },
  {
   "cell_type": "code",
   "execution_count": null,
   "id": "911111fd-490d-489d-a53b-aa51b62ee153",
   "metadata": {},
   "outputs": [],
   "source": [
    "# Bar chart\n",
    "loyalty_spender_bar=loyalty_spender_cross.plot.bar()\n",
    "plt.title('Loyalty by spender flag')\n",
    "plt.xlabel('')\n",
    "plt.ylabel('count')\n",
    "plt.xticks(rotation=0)"
   ]
  },
  {
   "cell_type": "code",
   "execution_count": null,
   "id": "a2761a03-40cd-4b55-9461-1ed4bbc8b09d",
   "metadata": {},
   "outputs": [],
   "source": [
    "# Export the bar chart\n",
    "loyalty_spender_bar.figure.savefig(os.path.join(path,'04 Analysis','Visualizations','loyalty_spender_bar.png'))"
   ]
  },
  {
   "cell_type": "code",
   "execution_count": null,
   "id": "db2c3b51-8470-4565-b4a3-6e372318f1eb",
   "metadata": {},
   "outputs": [],
   "source": [
    "# Crosstab loyalty with family status\n",
    "loyalty_fam_cross=pd.crosstab(df['loyalty_flag'],df['fam_status'],dropna=False)"
   ]
  },
  {
   "cell_type": "code",
   "execution_count": null,
   "id": "13a53df3-3d3e-453a-9b73-fa572cc81860",
   "metadata": {},
   "outputs": [],
   "source": [
    "loyalty_fam_cross"
   ]
  },
  {
   "cell_type": "code",
   "execution_count": null,
   "id": "811c2730-a187-4db0-998f-730b81d1e094",
   "metadata": {},
   "outputs": [],
   "source": [
    "# Bar chart\n",
    "loyalty_fam_bar=loyalty_fam_cross.plot.bar()\n",
    "plt.title('loyalty by family status')\n",
    "plt.xlabel('')\n",
    "plt.ylabel('count')\n",
    "plt.xticks(rotation=0)"
   ]
  },
  {
   "cell_type": "code",
   "execution_count": null,
   "id": "582d1ac7-5554-4f53-aae0-ecfbc9af9b35",
   "metadata": {},
   "outputs": [],
   "source": [
    "# Export the chart\n",
    "loyalty_fam_bar.figure.savefig(os.path.join(path,'04 Analysis','Visualizations','loyalty_fam_bar.png'))"
   ]
  },
  {
   "cell_type": "code",
   "execution_count": null,
   "id": "65f94b81-7cff-4008-b30f-fe9df31d222f",
   "metadata": {},
   "outputs": [],
   "source": [
    "# Crosstab loyalty with dependants\n",
    "loyalty_depend_cross=pd.crosstab(df['loyalty_flag'],df['dependants_flag'],dropna=False)"
   ]
  },
  {
   "cell_type": "code",
   "execution_count": null,
   "id": "e27689e2-5e0b-4e95-8278-94cdb7c74c81",
   "metadata": {},
   "outputs": [],
   "source": [
    "loyalty_depend_cross"
   ]
  },
  {
   "cell_type": "code",
   "execution_count": null,
   "id": "7e3654b7-802b-465d-89f1-de6c0949e56e",
   "metadata": {},
   "outputs": [],
   "source": [
    "# bar chart\n",
    "loyalty_depend_bar=loyalty_depend_cross.plot.bar()\n",
    "plt.title('Loyalty by dependants status')\n",
    "plt.xlabel('')\n",
    "plt.ylabel('count')\n",
    "plt.xticks(rotation=0)"
   ]
  },
  {
   "cell_type": "code",
   "execution_count": null,
   "id": "a5c67b3e-9f6c-4f58-beaf-b84a27182898",
   "metadata": {},
   "outputs": [],
   "source": [
    "# Export the bar chart\n",
    "loyalty_depend_bar.figure.savefig(os.path.join(path,'04 Analysis','Visualizations','loyalty_depend_bar.png'))"
   ]
  },
  {
   "cell_type": "code",
   "execution_count": null,
   "id": "400727d4-ba30-4709-8e69-504f7b29c4e1",
   "metadata": {},
   "outputs": [],
   "source": [
    "# Check value counts\n",
    "fam_status=df['fam_status'].value_counts(dropna=False)"
   ]
  },
  {
   "cell_type": "code",
   "execution_count": null,
   "id": "32ff8e3a-160f-4feb-b806-d6bc967afe2f",
   "metadata": {},
   "outputs": [],
   "source": [
    "fam_status"
   ]
  },
  {
   "cell_type": "code",
   "execution_count": null,
   "id": "ac84b094-a81e-4b94-a3b6-45a3d115fa76",
   "metadata": {},
   "outputs": [],
   "source": [
    "# Pie chart showing the distribution of family status\n",
    "fam_status_distribution_pie=fam_status.plot.pie(autopct='%1.1f%%',labels=['married','single','divorced/widowed','living with parents and siblings'], startangle=90)\n",
    "plt.title('Distribution of family status')\n",
    "plt.ylabel('')\n",
    "plt.show()"
   ]
  },
  {
   "cell_type": "code",
   "execution_count": null,
   "id": "7caca859-e5f7-4598-9ace-3f7a3c48c421",
   "metadata": {},
   "outputs": [],
   "source": [
    "# Export the pie chart\n",
    "fam_status_distribution_pie.figure.savefig(os.path.join(path, '04 Analysis','Visualizations','fam_status_bar.png'))"
   ]
  },
  {
   "cell_type": "code",
   "execution_count": null,
   "id": "13972ec1-93bc-42fc-9f39-71648629606f",
   "metadata": {},
   "outputs": [],
   "source": []
  }
 ],
 "metadata": {
  "kernelspec": {
   "display_name": "Python 3 (ipykernel)",
   "language": "python",
   "name": "python3"
  },
  "language_info": {
   "codemirror_mode": {
    "name": "ipython",
    "version": 3
   },
   "file_extension": ".py",
   "mimetype": "text/x-python",
   "name": "python",
   "nbconvert_exporter": "python",
   "pygments_lexer": "ipython3",
   "version": "3.12.4"
  }
 },
 "nbformat": 4,
 "nbformat_minor": 5
}
